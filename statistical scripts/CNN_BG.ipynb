{
  "nbformat": 4,
  "nbformat_minor": 2,
  "metadata": {
    "colab": {
      "name": "CNN_BG.ipynb",
      "provenance": [],
      "collapsed_sections": []
    },
    "kernelspec": {
      "name": "python3",
      "display_name": "Python 3.8.3 64-bit ('base': conda)"
    },
    "language_info": {
      "name": "python",
      "version": "3.8.3",
      "mimetype": "text/x-python",
      "codemirror_mode": {
        "name": "ipython",
        "version": 3
      },
      "pygments_lexer": "ipython3",
      "nbconvert_exporter": "python",
      "file_extension": ".py"
    },
    "interpreter": {
      "hash": "3ad93aa74a829924c231a429614c55ad72f0409026a97bed9401fbf11153bc08"
    }
  },
  "cells": [
    {
      "cell_type": "code",
      "execution_count": 1,
      "source": [
        "import numpy as np\r\n",
        "import pandas as pd\r\n",
        "import matplotlib.pyplot as plt\r\n",
        "import seaborn as sb\r\n",
        "from matplotlib.colors import ColorConverter\r\n",
        "from skimage import data\r\n",
        "from skimage.color import rgb2gray\r\n",
        "from sklearn.preprocessing import OneHotEncoder\r\n",
        "from matplotlib.colors import ColorConverter\r\n",
        "from skimage import data\r\n",
        "from skimage.color import rgb2gray\r\n",
        "from sklearn.model_selection import train_test_split\r\n",
        "import keras\r\n",
        "from keras.models import Sequential\r\n",
        "from keras.layers import Dense,MaxPool2D,Conv2D,Flatten\r\n",
        "from keras import optimizers\r\n",
        "from keras.layers import Dropout\r\n",
        "import tensorflow as tf\r\n",
        "import pandas as pd\r\n",
        "from sklearn.preprocessing import OneHotEncoder\r\n",
        "import numpy as np\r\n",
        "import matplotlib.pyplot as plt\r\n"
      ],
      "outputs": [],
      "metadata": {
        "id": "dTHewJofQD8U"
      }
    },
    {
      "cell_type": "code",
      "execution_count": 10,
      "source": [
        "\"\"\"TESTING BLOCK\"\"\"\r\n",
        "elements=[['c'], ['n'], ['o'], ['C'], ['N'], ['F'], ['='], ['O'], \r\n",
        "            ['('], [')'], ['#'],['Cl'],['S'],['Br']]\r\n",
        "elements+=[[str(x)] for x in range(1,10)]\r\n",
        "enc = OneHotEncoder(handle_unknown='ignore')\r\n",
        "enc.fit(elements)\r\n",
        "n = 400\r\n",
        "# Length of elements is equal to the number of rows in the encoded image\r\n",
        "df1=pd.Series(df[\"SMILES Code\"], dtype=str)\r\n",
        "print(df1[0])\r\n",
        "length = df1.apply(lambda x: len(x))\r\n",
        "above_250 = [x for x in length if x >= 100]\r\n",
        "print(above_250)\r\n",
        "print(length)\r\n",
        "x=enc.transform([[x] for x  in df1[n]]).toarray()\r\n",
        "print(\"SMILES code = \", df1[n])\r\n",
        "print(\"length of SMILES code = \", len(df1[n]))\r\n",
        "print(\"Number of rows in encoded image = \", x.shape[0])    # Number of rows and or number of chars in smiles code\r\n",
        "print(\"Number of columns = \", x.shape[1])    # Number of columns\r\n",
        "print(\"Length of elements = \", len(elements))\r\n",
        "print(\"Number of rows = \", x.shape[0])\r\n",
        "print(enc.categories_)\r\n",
        "print(x[:5])\r\n",
        "y=np.zeros(\r\n",
        "    ((100-x.shape[0]),len(elements))\r\n",
        ")\r\n",
        "encoded = np.vstack((x,y))\r\n",
        "print(\"Num_Col = \", encoded.shape[1])\r\n",
        "print(\"Num_row = \", encoded.shape[0])\r\n",
        "\"\"\"END TESTING BLOCK \"\"\""
      ],
      "outputs": [
        {
          "output_type": "stream",
          "name": "stdout",
          "text": [
            "CCN(CC)c1ccc2c(Oc3cc(ccc3C32N(C(=O)c2ccccc32)c2ccccc2CN(Cc2ccccn2)Cc2ccccn2)N(CC)CC)c1\n",
            "[113, 114, 124, 102, 153, 124, 294, 101, 102]\n",
            "0       86\n",
            "1       45\n",
            "2       39\n",
            "3       41\n",
            "4       45\n",
            "        ..\n",
            "1365    49\n",
            "1366    46\n",
            "1367    46\n",
            "1368    70\n",
            "1369    62\n",
            "Name: SMILES Code, Length: 1370, dtype: int64\n",
            "SMILES code =  COc1ccc(cc1)C(=O)C1=CCC2(C)CCC12O\n",
            "length of SMILES code =  33\n",
            "Number of rows in encoded image =  33\n",
            "Number of columns =  23\n",
            "Length of elements =  23\n",
            "Number of rows =  33\n",
            "[array(['#', '(', ')', '1', '2', '3', '4', '5', '6', '7', '8', '9', '=',\n",
            "       'Br', 'C', 'Cl', 'F', 'N', 'O', 'S', 'c', 'n', 'o'], dtype=object)]\n",
            "[[0. 0. 0. 0. 0. 0. 0. 0. 0. 0. 0. 0. 0. 0. 1. 0. 0. 0. 0. 0. 0. 0. 0.]\n",
            " [0. 0. 0. 0. 0. 0. 0. 0. 0. 0. 0. 0. 0. 0. 0. 0. 0. 0. 1. 0. 0. 0. 0.]\n",
            " [0. 0. 0. 0. 0. 0. 0. 0. 0. 0. 0. 0. 0. 0. 0. 0. 0. 0. 0. 0. 1. 0. 0.]\n",
            " [0. 0. 0. 1. 0. 0. 0. 0. 0. 0. 0. 0. 0. 0. 0. 0. 0. 0. 0. 0. 0. 0. 0.]\n",
            " [0. 0. 0. 0. 0. 0. 0. 0. 0. 0. 0. 0. 0. 0. 0. 0. 0. 0. 0. 0. 1. 0. 0.]]\n",
            "Num_Col =  23\n",
            "Num_row =  100\n"
          ]
        },
        {
          "output_type": "execute_result",
          "data": {
            "text/plain": [
              "'END TESTING BLOCK '"
            ]
          },
          "metadata": {},
          "execution_count": 10
        }
      ],
      "metadata": {}
    },
    {
      "cell_type": "code",
      "execution_count": 11,
      "source": [
        "np.zeros((10,8))"
      ],
      "outputs": [
        {
          "output_type": "execute_result",
          "data": {
            "text/plain": [
              "array([[0., 0., 0., 0., 0., 0., 0., 0.],\n",
              "       [0., 0., 0., 0., 0., 0., 0., 0.],\n",
              "       [0., 0., 0., 0., 0., 0., 0., 0.],\n",
              "       [0., 0., 0., 0., 0., 0., 0., 0.],\n",
              "       [0., 0., 0., 0., 0., 0., 0., 0.],\n",
              "       [0., 0., 0., 0., 0., 0., 0., 0.],\n",
              "       [0., 0., 0., 0., 0., 0., 0., 0.],\n",
              "       [0., 0., 0., 0., 0., 0., 0., 0.],\n",
              "       [0., 0., 0., 0., 0., 0., 0., 0.],\n",
              "       [0., 0., 0., 0., 0., 0., 0., 0.]])"
            ]
          },
          "metadata": {},
          "execution_count": 11
        }
      ],
      "metadata": {}
    },
    {
      "cell_type": "code",
      "execution_count": 3,
      "source": [
        "url = 'https://raw.githubusercontent.com/spencerbrady17/CNNforBG/main/DATA_CNN.csv'\r\n",
        "df=pd.read_csv(url,encoding= 'unicode_escape')\r\n",
        "df=df.dropna(how=\"all\")\r\n",
        "df=df.iloc[:,:3]\r\n",
        "df_columns = {\r\n",
        "    \"REFCODE\": str, \r\n",
        "    \"HOMO-LUMO Gap\" : np.float32,\r\n",
        "    \"SMILES Code\": str\r\n",
        "}\r\n",
        "df.columns = df_columns.keys()\r\n",
        "df = df.astype(df_columns)\r\n",
        "df.head(5)"
      ],
      "outputs": [
        {
          "output_type": "execute_result",
          "data": {
            "text/plain": [
              "  REFCODE  HOMO-LUMO Gap                                        SMILES Code\n",
              "0  ALUFUJ         2.7177  CCN(CC)c1ccc2c(Oc3cc(ccc3C32N(C(=O)c2ccccc32)c...\n",
              "1  AMAHAX         4.1356      COc1cc(cc(OC)c1OC)C(CO)CN1CCC(CCC1=O)C(C)(C)C\n",
              "2  AMAHEB         3.8247            COc1ccc(cc1)C(CO)CN1CCC(CCC1=O)C(C)(C)C\n",
              "3  AMAHUR         4.1090          CC(C)(C)C1CCN(CC2(CO)CCc3ccccc23)C(=O)CC1\n",
              "4  AMEJAE         2.3019      CC(=NN=C1CC2=C(Nc3ccccc23)c2ccccc2N1)c1ccccn1"
            ],
            "text/html": [
              "<div>\n",
              "<style scoped>\n",
              "    .dataframe tbody tr th:only-of-type {\n",
              "        vertical-align: middle;\n",
              "    }\n",
              "\n",
              "    .dataframe tbody tr th {\n",
              "        vertical-align: top;\n",
              "    }\n",
              "\n",
              "    .dataframe thead th {\n",
              "        text-align: right;\n",
              "    }\n",
              "</style>\n",
              "<table border=\"1\" class=\"dataframe\">\n",
              "  <thead>\n",
              "    <tr style=\"text-align: right;\">\n",
              "      <th></th>\n",
              "      <th>REFCODE</th>\n",
              "      <th>HOMO-LUMO Gap</th>\n",
              "      <th>SMILES Code</th>\n",
              "    </tr>\n",
              "  </thead>\n",
              "  <tbody>\n",
              "    <tr>\n",
              "      <th>0</th>\n",
              "      <td>ALUFUJ</td>\n",
              "      <td>2.7177</td>\n",
              "      <td>CCN(CC)c1ccc2c(Oc3cc(ccc3C32N(C(=O)c2ccccc32)c...</td>\n",
              "    </tr>\n",
              "    <tr>\n",
              "      <th>1</th>\n",
              "      <td>AMAHAX</td>\n",
              "      <td>4.1356</td>\n",
              "      <td>COc1cc(cc(OC)c1OC)C(CO)CN1CCC(CCC1=O)C(C)(C)C</td>\n",
              "    </tr>\n",
              "    <tr>\n",
              "      <th>2</th>\n",
              "      <td>AMAHEB</td>\n",
              "      <td>3.8247</td>\n",
              "      <td>COc1ccc(cc1)C(CO)CN1CCC(CCC1=O)C(C)(C)C</td>\n",
              "    </tr>\n",
              "    <tr>\n",
              "      <th>3</th>\n",
              "      <td>AMAHUR</td>\n",
              "      <td>4.1090</td>\n",
              "      <td>CC(C)(C)C1CCN(CC2(CO)CCc3ccccc23)C(=O)CC1</td>\n",
              "    </tr>\n",
              "    <tr>\n",
              "      <th>4</th>\n",
              "      <td>AMEJAE</td>\n",
              "      <td>2.3019</td>\n",
              "      <td>CC(=NN=C1CC2=C(Nc3ccccc23)c2ccccc2N1)c1ccccn1</td>\n",
              "    </tr>\n",
              "  </tbody>\n",
              "</table>\n",
              "</div>"
            ]
          },
          "metadata": {},
          "execution_count": 3
        }
      ],
      "metadata": {
        "colab": {
          "base_uri": "https://localhost:8080/",
          "height": 200
        },
        "id": "V-7G2q0-RNSG",
        "outputId": "0c9ef4e1-31d4-439c-f634-050500e23bb4"
      }
    },
    {
      "cell_type": "code",
      "execution_count": 13,
      "source": [
        "df1=pd.Series(df[\"SMILES Code\"])\r\n",
        "np.zeros((0,23))\r\n"
      ],
      "outputs": [
        {
          "output_type": "execute_result",
          "data": {
            "text/plain": [
              "array([], shape=(0, 23), dtype=float64)"
            ]
          },
          "metadata": {},
          "execution_count": 13
        }
      ],
      "metadata": {}
    },
    {
      "cell_type": "code",
      "execution_count": 4,
      "source": [
        "def encoding(df):\r\n",
        "  encoded=[]\r\n",
        "  disposed_indices = []\r\n",
        "  elements=[['c'], ['n'], ['o'], ['C'], ['N'],  ['O'],\r\n",
        "            ['F'], ['Cl'], ['S'],['Br'],\r\n",
        "            ['('], [')'], ['='], ['#'],['/'],['\\\\']]\r\n",
        "  elements+=[[str(x)] for x in range(1,10)]\r\n",
        "  enc = OneHotEncoder(handle_unknown='ignore')\r\n",
        "  enc.fit(elements)\r\n",
        "  enc.categories_\r\n",
        "  df1=pd.Series(df[\"SMILES Code\"])\r\n",
        "  for i in range(df1.shape[0]):\r\n",
        "    if(len(df1[i]) > 100): \r\n",
        "      disposed_indices.append(i)\r\n",
        "      continue                         # Limit number of SMILES chars to 100 (only missing 10 out of thousands is negligible)\r\n",
        "    x=enc.transform([[x] for x  in df1[i]]).toarray()\r\n",
        "    y=np.zeros(((100-x.shape[0]),len(elements)))            # To make this more automatic, the number 100 would instead be the maximum number of chars in a SMILES code\r\n",
        "    encoded.append(np.vstack((x,y)))\r\n",
        "  return (encoded, disposed_indices)\r\n",
        "\r\n",
        "def encoded_generate_images(df):\r\n",
        "  (listt,temp)=encoding(df)\r\n",
        "  plt.figure(figsize=(20,100))\r\n",
        "  for i in range(len(listt)):\r\n",
        "    plt.subplot(len(listt),5,i+1)\r\n",
        "    plt.imshow(listt[i])"
      ],
      "outputs": [],
      "metadata": {
        "id": "JodyjpdCdAGe"
      }
    },
    {
      "cell_type": "code",
      "execution_count": 5,
      "source": [
        "encoded_generate_images(df.head(10))\r\n",
        "df.head(5)"
      ],
      "outputs": [
        {
          "output_type": "execute_result",
          "data": {
            "text/plain": [
              "  REFCODE  HOMO-LUMO Gap                                        SMILES Code\n",
              "0  ALUFUJ         2.7177  CCN(CC)c1ccc2c(Oc3cc(ccc3C32N(C(=O)c2ccccc32)c...\n",
              "1  AMAHAX         4.1356      COc1cc(cc(OC)c1OC)C(CO)CN1CCC(CCC1=O)C(C)(C)C\n",
              "2  AMAHEB         3.8247            COc1ccc(cc1)C(CO)CN1CCC(CCC1=O)C(C)(C)C\n",
              "3  AMAHUR         4.1090          CC(C)(C)C1CCN(CC2(CO)CCc3ccccc23)C(=O)CC1\n",
              "4  AMEJAE         2.3019      CC(=NN=C1CC2=C(Nc3ccccc23)c2ccccc2N1)c1ccccn1"
            ],
            "text/html": [
              "<div>\n",
              "<style scoped>\n",
              "    .dataframe tbody tr th:only-of-type {\n",
              "        vertical-align: middle;\n",
              "    }\n",
              "\n",
              "    .dataframe tbody tr th {\n",
              "        vertical-align: top;\n",
              "    }\n",
              "\n",
              "    .dataframe thead th {\n",
              "        text-align: right;\n",
              "    }\n",
              "</style>\n",
              "<table border=\"1\" class=\"dataframe\">\n",
              "  <thead>\n",
              "    <tr style=\"text-align: right;\">\n",
              "      <th></th>\n",
              "      <th>REFCODE</th>\n",
              "      <th>HOMO-LUMO Gap</th>\n",
              "      <th>SMILES Code</th>\n",
              "    </tr>\n",
              "  </thead>\n",
              "  <tbody>\n",
              "    <tr>\n",
              "      <th>0</th>\n",
              "      <td>ALUFUJ</td>\n",
              "      <td>2.7177</td>\n",
              "      <td>CCN(CC)c1ccc2c(Oc3cc(ccc3C32N(C(=O)c2ccccc32)c...</td>\n",
              "    </tr>\n",
              "    <tr>\n",
              "      <th>1</th>\n",
              "      <td>AMAHAX</td>\n",
              "      <td>4.1356</td>\n",
              "      <td>COc1cc(cc(OC)c1OC)C(CO)CN1CCC(CCC1=O)C(C)(C)C</td>\n",
              "    </tr>\n",
              "    <tr>\n",
              "      <th>2</th>\n",
              "      <td>AMAHEB</td>\n",
              "      <td>3.8247</td>\n",
              "      <td>COc1ccc(cc1)C(CO)CN1CCC(CCC1=O)C(C)(C)C</td>\n",
              "    </tr>\n",
              "    <tr>\n",
              "      <th>3</th>\n",
              "      <td>AMAHUR</td>\n",
              "      <td>4.1090</td>\n",
              "      <td>CC(C)(C)C1CCN(CC2(CO)CCc3ccccc23)C(=O)CC1</td>\n",
              "    </tr>\n",
              "    <tr>\n",
              "      <th>4</th>\n",
              "      <td>AMEJAE</td>\n",
              "      <td>2.3019</td>\n",
              "      <td>CC(=NN=C1CC2=C(Nc3ccccc23)c2ccccc2N1)c1ccccn1</td>\n",
              "    </tr>\n",
              "  </tbody>\n",
              "</table>\n",
              "</div>"
            ]
          },
          "metadata": {},
          "execution_count": 5
        },
        {
          "output_type": "display_data",
          "data": {
            "text/plain": [
              "<Figure size 1440x7200 with 10 Axes>"
            ],
            "image/svg+xml": "<?xml version=\"1.0\" encoding=\"utf-8\" standalone=\"no\"?>\r\n<!DOCTYPE svg PUBLIC \"-//W3C//DTD SVG 1.1//EN\"\r\n  \"http://www.w3.org/Graphics/SVG/1.1/DTD/svg11.dtd\">\r\n<!-- Created with matplotlib (https://matplotlib.org/) -->\r\n<svg height=\"1046.065479pt\" version=\"1.1\" viewBox=\"0 0 1072.880698 1046.065479\" width=\"1072.880698pt\" xmlns=\"http://www.w3.org/2000/svg\" xmlns:xlink=\"http://www.w3.org/1999/xlink\">\r\n <metadata>\r\n  <rdf:RDF xmlns:cc=\"http://creativecommons.org/ns#\" xmlns:dc=\"http://purl.org/dc/elements/1.1/\" xmlns:rdf=\"http://www.w3.org/1999/02/22-rdf-syntax-ns#\">\r\n   <cc:Work>\r\n    <dc:type rdf:resource=\"http://purl.org/dc/dcmitype/StillImage\"/>\r\n    <dc:date>2021-08-18T18:20:57.866064</dc:date>\r\n    <dc:format>image/svg+xml</dc:format>\r\n    <dc:creator>\r\n     <cc:Agent>\r\n      <dc:title>Matplotlib v3.3.4, https://matplotlib.org/</dc:title>\r\n     </cc:Agent>\r\n    </dc:creator>\r\n   </cc:Work>\r\n  </rdf:RDF>\r\n </metadata>\r\n <defs>\r\n  <style type=\"text/css\">*{stroke-linecap:butt;stroke-linejoin:round;}</style>\r\n </defs>\r\n <g id=\"figure_1\">\r\n  <g id=\"patch_1\">\r\n   <path d=\"M 0 1046.065479 \r\nL 1072.880698 1046.065479 \r\nL 1072.880698 0 \r\nL 0 0 \r\nz\r\n\" style=\"fill:none;\"/>\r\n  </g>\r\n  <g id=\"axes_1\">\r\n   <g id=\"patch_2\">\r\n    <path d=\"M 26.925 469.373795 \r\nL 142.094492 469.373795 \r\nL 142.094492 8.695829 \r\nL 26.925 8.695829 \r\nz\r\n\" style=\"fill:#ffffff;\"/>\r\n   </g>\r\n   <g clip-path=\"url(#p0a0aa13352)\">\r\n    <image height=\"461\" id=\"image4f22947ac0\" transform=\"scale(1 -1)translate(0 -461)\" width=\"116\" x=\"26.925\" xlink:href=\"data:image/png;base64,\r\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\" y=\"-8.373795\"/>\r\n   </g>\r\n   <g id=\"matplotlib.axis_1\">\r\n    <g id=\"xtick_1\">\r\n     <g id=\"line2d_1\">\r\n      <defs>\r\n       <path d=\"M 0 0 \r\nL 0 3.5 \r\n\" id=\"m33f425df88\" style=\"stroke:#000000;stroke-width:0.8;\"/>\r\n      </defs>\r\n      <g>\r\n       <use style=\"stroke:#000000;stroke-width:0.8;\" x=\"29.22839\" xlink:href=\"#m33f425df88\" y=\"469.373795\"/>\r\n      </g>\r\n     </g>\r\n     <g id=\"text_1\">\r\n      <!-- 0 -->\r\n      <g transform=\"translate(26.04714 483.972233)scale(0.1 -0.1)\">\r\n       <defs>\r\n        <path d=\"M 31.78125 66.40625 \r\nQ 24.171875 66.40625 20.328125 58.90625 \r\nQ 16.5 51.421875 16.5 36.375 \r\nQ 16.5 21.390625 20.328125 13.890625 \r\nQ 24.171875 6.390625 31.78125 6.390625 \r\nQ 39.453125 6.390625 43.28125 13.890625 \r\nQ 47.125 21.390625 47.125 36.375 \r\nQ 47.125 51.421875 43.28125 58.90625 \r\nQ 39.453125 66.40625 31.78125 66.40625 \r\nz\r\nM 31.78125 74.21875 \r\nQ 44.046875 74.21875 50.515625 64.515625 \r\nQ 56.984375 54.828125 56.984375 36.375 \r\nQ 56.984375 17.96875 50.515625 8.265625 \r\nQ 44.046875 -1.421875 31.78125 -1.421875 \r\nQ 19.53125 -1.421875 13.0625 8.265625 \r\nQ 6.59375 17.96875 6.59375 36.375 \r\nQ 6.59375 54.828125 13.0625 64.515625 \r\nQ 19.53125 74.21875 31.78125 74.21875 \r\nz\r\n\" id=\"DejaVuSans-48\"/>\r\n       </defs>\r\n       <use xlink:href=\"#DejaVuSans-48\"/>\r\n      </g>\r\n     </g>\r\n    </g>\r\n    <g id=\"xtick_2\">\r\n     <g id=\"line2d_2\">\r\n      <g>\r\n       <use style=\"stroke:#000000;stroke-width:0.8;\" x=\"75.296186\" xlink:href=\"#m33f425df88\" y=\"469.373795\"/>\r\n      </g>\r\n     </g>\r\n     <g id=\"text_2\">\r\n      <!-- 10 -->\r\n      <g transform=\"translate(68.933686 483.972233)scale(0.1 -0.1)\">\r\n       <defs>\r\n        <path d=\"M 12.40625 8.296875 \r\nL 28.515625 8.296875 \r\nL 28.515625 63.921875 \r\nL 10.984375 60.40625 \r\nL 10.984375 69.390625 \r\nL 28.421875 72.90625 \r\nL 38.28125 72.90625 \r\nL 38.28125 8.296875 \r\nL 54.390625 8.296875 \r\nL 54.390625 0 \r\nL 12.40625 0 \r\nz\r\n\" id=\"DejaVuSans-49\"/>\r\n       </defs>\r\n       <use xlink:href=\"#DejaVuSans-49\"/>\r\n       <use x=\"63.623047\" xlink:href=\"#DejaVuSans-48\"/>\r\n      </g>\r\n     </g>\r\n    </g>\r\n    <g id=\"xtick_3\">\r\n     <g id=\"line2d_3\">\r\n      <g>\r\n       <use style=\"stroke:#000000;stroke-width:0.8;\" x=\"121.363983\" xlink:href=\"#m33f425df88\" y=\"469.373795\"/>\r\n      </g>\r\n     </g>\r\n     <g id=\"text_3\">\r\n      <!-- 20 -->\r\n      <g transform=\"translate(115.001483 483.972233)scale(0.1 -0.1)\">\r\n       <defs>\r\n        <path d=\"M 19.1875 8.296875 \r\nL 53.609375 8.296875 \r\nL 53.609375 0 \r\nL 7.328125 0 \r\nL 7.328125 8.296875 \r\nQ 12.9375 14.109375 22.625 23.890625 \r\nQ 32.328125 33.6875 34.8125 36.53125 \r\nQ 39.546875 41.84375 41.421875 45.53125 \r\nQ 43.3125 49.21875 43.3125 52.78125 \r\nQ 43.3125 58.59375 39.234375 62.25 \r\nQ 35.15625 65.921875 28.609375 65.921875 \r\nQ 23.96875 65.921875 18.8125 64.3125 \r\nQ 13.671875 62.703125 7.8125 59.421875 \r\nL 7.8125 69.390625 \r\nQ 13.765625 71.78125 18.9375 73 \r\nQ 24.125 74.21875 28.421875 74.21875 \r\nQ 39.75 74.21875 46.484375 68.546875 \r\nQ 53.21875 62.890625 53.21875 53.421875 \r\nQ 53.21875 48.921875 51.53125 44.890625 \r\nQ 49.859375 40.875 45.40625 35.40625 \r\nQ 44.1875 33.984375 37.640625 27.21875 \r\nQ 31.109375 20.453125 19.1875 8.296875 \r\nz\r\n\" id=\"DejaVuSans-50\"/>\r\n       </defs>\r\n       <use xlink:href=\"#DejaVuSans-50\"/>\r\n       <use x=\"63.623047\" xlink:href=\"#DejaVuSans-48\"/>\r\n      </g>\r\n     </g>\r\n    </g>\r\n   </g>\r\n   <g id=\"matplotlib.axis_2\">\r\n    <g id=\"ytick_1\">\r\n     <g id=\"line2d_4\">\r\n      <defs>\r\n       <path d=\"M 0 0 \r\nL -3.5 0 \r\n\" id=\"m033900bfb7\" style=\"stroke:#000000;stroke-width:0.8;\"/>\r\n      </defs>\r\n      <g>\r\n       <use style=\"stroke:#000000;stroke-width:0.8;\" x=\"26.925\" xlink:href=\"#m033900bfb7\" y=\"10.999219\"/>\r\n      </g>\r\n     </g>\r\n     <g id=\"text_4\">\r\n      <!-- 0 -->\r\n      <g transform=\"translate(13.5625 14.798437)scale(0.1 -0.1)\">\r\n       <use xlink:href=\"#DejaVuSans-48\"/>\r\n      </g>\r\n     </g>\r\n    </g>\r\n    <g id=\"ytick_2\">\r\n     <g id=\"line2d_5\">\r\n      <g>\r\n       <use style=\"stroke:#000000;stroke-width:0.8;\" x=\"26.925\" xlink:href=\"#m033900bfb7\" y=\"103.134812\"/>\r\n      </g>\r\n     </g>\r\n     <g id=\"text_5\">\r\n      <!-- 20 -->\r\n      <g transform=\"translate(7.2 106.934031)scale(0.1 -0.1)\">\r\n       <use xlink:href=\"#DejaVuSans-50\"/>\r\n       <use x=\"63.623047\" xlink:href=\"#DejaVuSans-48\"/>\r\n      </g>\r\n     </g>\r\n    </g>\r\n    <g id=\"ytick_3\">\r\n     <g id=\"line2d_6\">\r\n      <g>\r\n       <use style=\"stroke:#000000;stroke-width:0.8;\" x=\"26.925\" xlink:href=\"#m033900bfb7\" y=\"195.270405\"/>\r\n      </g>\r\n     </g>\r\n     <g id=\"text_6\">\r\n      <!-- 40 -->\r\n      <g transform=\"translate(7.2 199.069624)scale(0.1 -0.1)\">\r\n       <defs>\r\n        <path d=\"M 37.796875 64.3125 \r\nL 12.890625 25.390625 \r\nL 37.796875 25.390625 \r\nz\r\nM 35.203125 72.90625 \r\nL 47.609375 72.90625 \r\nL 47.609375 25.390625 \r\nL 58.015625 25.390625 \r\nL 58.015625 17.1875 \r\nL 47.609375 17.1875 \r\nL 47.609375 0 \r\nL 37.796875 0 \r\nL 37.796875 17.1875 \r\nL 4.890625 17.1875 \r\nL 4.890625 26.703125 \r\nz\r\n\" id=\"DejaVuSans-52\"/>\r\n       </defs>\r\n       <use xlink:href=\"#DejaVuSans-52\"/>\r\n       <use x=\"63.623047\" xlink:href=\"#DejaVuSans-48\"/>\r\n      </g>\r\n     </g>\r\n    </g>\r\n    <g id=\"ytick_4\">\r\n     <g id=\"line2d_7\">\r\n      <g>\r\n       <use style=\"stroke:#000000;stroke-width:0.8;\" x=\"26.925\" xlink:href=\"#m033900bfb7\" y=\"287.405998\"/>\r\n      </g>\r\n     </g>\r\n     <g id=\"text_7\">\r\n      <!-- 60 -->\r\n      <g transform=\"translate(7.2 291.205217)scale(0.1 -0.1)\">\r\n       <defs>\r\n        <path d=\"M 33.015625 40.375 \r\nQ 26.375 40.375 22.484375 35.828125 \r\nQ 18.609375 31.296875 18.609375 23.390625 \r\nQ 18.609375 15.53125 22.484375 10.953125 \r\nQ 26.375 6.390625 33.015625 6.390625 \r\nQ 39.65625 6.390625 43.53125 10.953125 \r\nQ 47.40625 15.53125 47.40625 23.390625 \r\nQ 47.40625 31.296875 43.53125 35.828125 \r\nQ 39.65625 40.375 33.015625 40.375 \r\nz\r\nM 52.59375 71.296875 \r\nL 52.59375 62.3125 \r\nQ 48.875 64.0625 45.09375 64.984375 \r\nQ 41.3125 65.921875 37.59375 65.921875 \r\nQ 27.828125 65.921875 22.671875 59.328125 \r\nQ 17.53125 52.734375 16.796875 39.40625 \r\nQ 19.671875 43.65625 24.015625 45.921875 \r\nQ 28.375 48.1875 33.59375 48.1875 \r\nQ 44.578125 48.1875 50.953125 41.515625 \r\nQ 57.328125 34.859375 57.328125 23.390625 \r\nQ 57.328125 12.15625 50.6875 5.359375 \r\nQ 44.046875 -1.421875 33.015625 -1.421875 \r\nQ 20.359375 -1.421875 13.671875 8.265625 \r\nQ 6.984375 17.96875 6.984375 36.375 \r\nQ 6.984375 53.65625 15.1875 63.9375 \r\nQ 23.390625 74.21875 37.203125 74.21875 \r\nQ 40.921875 74.21875 44.703125 73.484375 \r\nQ 48.484375 72.75 52.59375 71.296875 \r\nz\r\n\" id=\"DejaVuSans-54\"/>\r\n       </defs>\r\n       <use xlink:href=\"#DejaVuSans-54\"/>\r\n       <use x=\"63.623047\" xlink:href=\"#DejaVuSans-48\"/>\r\n      </g>\r\n     </g>\r\n    </g>\r\n    <g id=\"ytick_5\">\r\n     <g id=\"line2d_8\">\r\n      <g>\r\n       <use style=\"stroke:#000000;stroke-width:0.8;\" x=\"26.925\" xlink:href=\"#m033900bfb7\" y=\"379.541592\"/>\r\n      </g>\r\n     </g>\r\n     <g id=\"text_8\">\r\n      <!-- 80 -->\r\n      <g transform=\"translate(7.2 383.34081)scale(0.1 -0.1)\">\r\n       <defs>\r\n        <path d=\"M 31.78125 34.625 \r\nQ 24.75 34.625 20.71875 30.859375 \r\nQ 16.703125 27.09375 16.703125 20.515625 \r\nQ 16.703125 13.921875 20.71875 10.15625 \r\nQ 24.75 6.390625 31.78125 6.390625 \r\nQ 38.8125 6.390625 42.859375 10.171875 \r\nQ 46.921875 13.96875 46.921875 20.515625 \r\nQ 46.921875 27.09375 42.890625 30.859375 \r\nQ 38.875 34.625 31.78125 34.625 \r\nz\r\nM 21.921875 38.8125 \r\nQ 15.578125 40.375 12.03125 44.71875 \r\nQ 8.5 49.078125 8.5 55.328125 \r\nQ 8.5 64.0625 14.71875 69.140625 \r\nQ 20.953125 74.21875 31.78125 74.21875 \r\nQ 42.671875 74.21875 48.875 69.140625 \r\nQ 55.078125 64.0625 55.078125 55.328125 \r\nQ 55.078125 49.078125 51.53125 44.71875 \r\nQ 48 40.375 41.703125 38.8125 \r\nQ 48.828125 37.15625 52.796875 32.3125 \r\nQ 56.78125 27.484375 56.78125 20.515625 \r\nQ 56.78125 9.90625 50.3125 4.234375 \r\nQ 43.84375 -1.421875 31.78125 -1.421875 \r\nQ 19.734375 -1.421875 13.25 4.234375 \r\nQ 6.78125 9.90625 6.78125 20.515625 \r\nQ 6.78125 27.484375 10.78125 32.3125 \r\nQ 14.796875 37.15625 21.921875 38.8125 \r\nz\r\nM 18.3125 54.390625 \r\nQ 18.3125 48.734375 21.84375 45.5625 \r\nQ 25.390625 42.390625 31.78125 42.390625 \r\nQ 38.140625 42.390625 41.71875 45.5625 \r\nQ 45.3125 48.734375 45.3125 54.390625 \r\nQ 45.3125 60.0625 41.71875 63.234375 \r\nQ 38.140625 66.40625 31.78125 66.40625 \r\nQ 25.390625 66.40625 21.84375 63.234375 \r\nQ 18.3125 60.0625 18.3125 54.390625 \r\nz\r\n\" id=\"DejaVuSans-56\"/>\r\n       </defs>\r\n       <use xlink:href=\"#DejaVuSans-56\"/>\r\n       <use x=\"63.623047\" xlink:href=\"#DejaVuSans-48\"/>\r\n      </g>\r\n     </g>\r\n    </g>\r\n   </g>\r\n   <g id=\"patch_3\">\r\n    <path d=\"M 26.925 469.373795 \r\nL 26.925 8.695829 \r\n\" style=\"fill:none;stroke:#000000;stroke-linecap:square;stroke-linejoin:miter;stroke-width:0.8;\"/>\r\n   </g>\r\n   <g id=\"patch_4\">\r\n    <path d=\"M 142.094492 469.373795 \r\nL 142.094492 8.695829 \r\n\" style=\"fill:none;stroke:#000000;stroke-linecap:square;stroke-linejoin:miter;stroke-width:0.8;\"/>\r\n   </g>\r\n   <g id=\"patch_5\">\r\n    <path d=\"M 26.925 469.373795 \r\nL 142.094492 469.373795 \r\n\" style=\"fill:none;stroke:#000000;stroke-linecap:square;stroke-linejoin:miter;stroke-width:0.8;\"/>\r\n   </g>\r\n   <g id=\"patch_6\">\r\n    <path d=\"M 26.925 8.695829 \r\nL 142.094492 8.695829 \r\n\" style=\"fill:none;stroke:#000000;stroke-linecap:square;stroke-linejoin:miter;stroke-width:0.8;\"/>\r\n   </g>\r\n  </g>\r\n  <g id=\"axes_2\">\r\n   <g id=\"patch_7\">\r\n    <path d=\"M 257.821552 469.373795 \r\nL 372.991043 469.373795 \r\nL 372.991043 8.695829 \r\nL 257.821552 8.695829 \r\nz\r\n\" style=\"fill:#ffffff;\"/>\r\n   </g>\r\n   <g clip-path=\"url(#p73ed1a957e)\">\r\n    <image height=\"461\" id=\"imagea9b4f367d8\" transform=\"scale(1 -1)translate(0 -461)\" width=\"116\" x=\"257.821552\" xlink:href=\"data:image/png;base64,\r\niVBORw0KGgoAAAANSUhEUgAAAHQAAAHNCAYAAADPKF8uAAAFKklEQVR4nO3d0W3bMBRAUabIFJ2iQxToAl22W3SKrtF+NzABx5Jt8vqcv/xZuXgQIdH02/e3n38HGV+e/QE4l6AxgsYIGiNojKAxgsYIGiNojKAxgsYIGiNojKAxgsYIGiNojKAxgsYIGiNojKAxgsYIGiNojKAxgsYIGiNojKAxgsYIGiNojKAxgsYIGiNojKAxgsYIGiNojKAxgsYIGiNojKAxgsYIGiNojKAxgsYIGiNojKAxgsYIGiNojKAxgsYIGiNojKAxgsYIGiNojKAxgsYIGiNojKAxgsYIGiNojKAxgsYIGiNojKAxgsYIGiNojKAxgsYIGiNojKAxgsYIGiNojKAxgsYIGiNojKAxgsYIGiNojKAxgsYIGiNojKAxgsYIGiNojKAxgsYIGiNojKAxgsYIGiNojKAxgsYIGiNojKAxgsYIGiNojKAxgsYIGiNojKAxgsYIGiNojKAxgsYIGiNojKAxgsYIGiNojKAxgsYIGiNojKAxgsYIGiNojKAxgsYIGiNojKAxgsYIGiNojKAxgsYIGiNojKAxgsYIGiNojKAxgsYIGiNojKAxgsYIGiNojKAxgsYIGiNojKAxgsYIGiNojKAxgsYIGiNojKAxgsYIGiNojKAxgsYIGiNojKAxgsYIGiNojKAxgsYIGiNojKAxgsYIGiNojKAxgsYIGiNojKAxgsYIGiNojKAxgsYIGiNojKAxgsYIGiNojKAxgsYIGiNojKAxgsYIGiNojKAxgsYIGiNojKAxgsYIGiNojKAxgsYIGiNojKAxgsYIGiNojKAxgsYIGiNojKAxgsYIGiNojKAxgsYIGiNozPuzP8Cqfv35/d/fP75+e8rn+CwTGiNojKAxV91DP95PxtjnnnKrXa/PhMYIGiNojKAxVy2Kdl0gHOHBAksQNEbQmIv30F3vH2fa9ZpNaIygMYLGCBpzcVH0cUHwim9bdmVCYwSNETRG0BhvWyZ2fVpmQmMEjRE0xtuWiV2v2YTGCBojaIygMVe9bXlFuy4MTWiMoDGCxvh+6MSu12dCYwSNETRG0Bg7Fu7s0QtKExojaIygMYLGvNxpnI9epDx6QWlCYwSNETTm1HvoDm/5V/xMZzKhMYLGCBojaMypi6LSgmOHBd4lJjRG0BhBYwSNETRG0BhBYwSNETRG0BhBYwSNETTGSWITu16zCY0RNEbQGAdPTey6jjChMYLGCBojaIygMYLGCBojaIygMYLGCBojaIygMS93aMa1dv3sJjRG0BhBYwSNcWjGyZ69MDShMYLGCBrzcidaX+vWe+Gz1xEmNEbQGEFjBI3xg7ATu16fCY0RNEbQGEFj/CDsnflBWA4RNEbQGG9bJs7aeWDHAocIGiNojKAxTuOc2PWaTWiMoDGCxjiNc2LXdYQJjRE0RtAYQWNs45zY9fpMaIygMYLGCBpjG+eEJ0UsQdAYQWNs45w4657pqxAcImiMoDGCxjii/M58t4VDBI0RNMaJ1ou69YGECY0RNEbQGEFjbONc1K3/XxMaI2iMoDGCxtjGObHrmyMTGiNojKAxtnFO2MbJEgSNETRG0Bincd6ZbZwcImiMoDGCxjhedVH25TLGEDRH0BhBYwSNETRG0BhBY7xtWZTvtjDGEDRH0BgP5xfl4TxjDEFzBI0RNEbQGEFjBI0RNEbQGEeUL8rbFsYYguYIGuOI8kV528IYQ9AcQWMEjXGS2J3durjxYIExhqA5gsa4h06c9aLBwVMcImiMoDGCxvwDq4GQBnDxbMsAAAAASUVORK5CYII=\" y=\"-8.373795\"/>\r\n   </g>\r\n   <g id=\"matplotlib.axis_3\">\r\n    <g id=\"xtick_4\">\r\n     <g id=\"line2d_9\">\r\n      <g>\r\n       <use style=\"stroke:#000000;stroke-width:0.8;\" x=\"260.124942\" xlink:href=\"#m33f425df88\" y=\"469.373795\"/>\r\n      </g>\r\n     </g>\r\n     <g id=\"text_9\">\r\n      <!-- 0 -->\r\n      <g transform=\"translate(256.943692 483.972233)scale(0.1 -0.1)\">\r\n       <use xlink:href=\"#DejaVuSans-48\"/>\r\n      </g>\r\n     </g>\r\n    </g>\r\n    <g id=\"xtick_5\">\r\n     <g id=\"line2d_10\">\r\n      <g>\r\n       <use style=\"stroke:#000000;stroke-width:0.8;\" x=\"306.192738\" xlink:href=\"#m33f425df88\" y=\"469.373795\"/>\r\n      </g>\r\n     </g>\r\n     <g id=\"text_10\">\r\n      <!-- 10 -->\r\n      <g transform=\"translate(299.830238 483.972233)scale(0.1 -0.1)\">\r\n       <use xlink:href=\"#DejaVuSans-49\"/>\r\n       <use x=\"63.623047\" xlink:href=\"#DejaVuSans-48\"/>\r\n      </g>\r\n     </g>\r\n    </g>\r\n    <g id=\"xtick_6\">\r\n     <g id=\"line2d_11\">\r\n      <g>\r\n       <use style=\"stroke:#000000;stroke-width:0.8;\" x=\"352.260535\" xlink:href=\"#m33f425df88\" y=\"469.373795\"/>\r\n      </g>\r\n     </g>\r\n     <g id=\"text_11\">\r\n      <!-- 20 -->\r\n      <g transform=\"translate(345.898035 483.972233)scale(0.1 -0.1)\">\r\n       <use xlink:href=\"#DejaVuSans-50\"/>\r\n       <use x=\"63.623047\" xlink:href=\"#DejaVuSans-48\"/>\r\n      </g>\r\n     </g>\r\n    </g>\r\n   </g>\r\n   <g id=\"matplotlib.axis_4\">\r\n    <g id=\"ytick_6\">\r\n     <g id=\"line2d_12\">\r\n      <g>\r\n       <use style=\"stroke:#000000;stroke-width:0.8;\" x=\"257.821552\" xlink:href=\"#m033900bfb7\" y=\"10.999219\"/>\r\n      </g>\r\n     </g>\r\n     <g id=\"text_12\">\r\n      <!-- 0 -->\r\n      <g transform=\"translate(244.459052 14.798437)scale(0.1 -0.1)\">\r\n       <use xlink:href=\"#DejaVuSans-48\"/>\r\n      </g>\r\n     </g>\r\n    </g>\r\n    <g id=\"ytick_7\">\r\n     <g id=\"line2d_13\">\r\n      <g>\r\n       <use style=\"stroke:#000000;stroke-width:0.8;\" x=\"257.821552\" xlink:href=\"#m033900bfb7\" y=\"103.134812\"/>\r\n      </g>\r\n     </g>\r\n     <g id=\"text_13\">\r\n      <!-- 20 -->\r\n      <g transform=\"translate(238.096552 106.934031)scale(0.1 -0.1)\">\r\n       <use xlink:href=\"#DejaVuSans-50\"/>\r\n       <use x=\"63.623047\" xlink:href=\"#DejaVuSans-48\"/>\r\n      </g>\r\n     </g>\r\n    </g>\r\n    <g id=\"ytick_8\">\r\n     <g id=\"line2d_14\">\r\n      <g>\r\n       <use style=\"stroke:#000000;stroke-width:0.8;\" x=\"257.821552\" xlink:href=\"#m033900bfb7\" y=\"195.270405\"/>\r\n      </g>\r\n     </g>\r\n     <g id=\"text_14\">\r\n      <!-- 40 -->\r\n      <g transform=\"translate(238.096552 199.069624)scale(0.1 -0.1)\">\r\n       <use xlink:href=\"#DejaVuSans-52\"/>\r\n       <use x=\"63.623047\" xlink:href=\"#DejaVuSans-48\"/>\r\n      </g>\r\n     </g>\r\n    </g>\r\n    <g id=\"ytick_9\">\r\n     <g id=\"line2d_15\">\r\n      <g>\r\n       <use style=\"stroke:#000000;stroke-width:0.8;\" x=\"257.821552\" xlink:href=\"#m033900bfb7\" y=\"287.405998\"/>\r\n      </g>\r\n     </g>\r\n     <g id=\"text_15\">\r\n      <!-- 60 -->\r\n      <g transform=\"translate(238.096552 291.205217)scale(0.1 -0.1)\">\r\n       <use xlink:href=\"#DejaVuSans-54\"/>\r\n       <use x=\"63.623047\" xlink:href=\"#DejaVuSans-48\"/>\r\n      </g>\r\n     </g>\r\n    </g>\r\n    <g id=\"ytick_10\">\r\n     <g id=\"line2d_16\">\r\n      <g>\r\n       <use style=\"stroke:#000000;stroke-width:0.8;\" x=\"257.821552\" xlink:href=\"#m033900bfb7\" y=\"379.541592\"/>\r\n      </g>\r\n     </g>\r\n     <g id=\"text_16\">\r\n      <!-- 80 -->\r\n      <g transform=\"translate(238.096552 383.34081)scale(0.1 -0.1)\">\r\n       <use xlink:href=\"#DejaVuSans-56\"/>\r\n       <use x=\"63.623047\" xlink:href=\"#DejaVuSans-48\"/>\r\n      </g>\r\n     </g>\r\n    </g>\r\n   </g>\r\n   <g id=\"patch_8\">\r\n    <path d=\"M 257.821552 469.373795 \r\nL 257.821552 8.695829 \r\n\" style=\"fill:none;stroke:#000000;stroke-linecap:square;stroke-linejoin:miter;stroke-width:0.8;\"/>\r\n   </g>\r\n   <g id=\"patch_9\">\r\n    <path d=\"M 372.991043 469.373795 \r\nL 372.991043 8.695829 \r\n\" style=\"fill:none;stroke:#000000;stroke-linecap:square;stroke-linejoin:miter;stroke-width:0.8;\"/>\r\n   </g>\r\n   <g id=\"patch_10\">\r\n    <path d=\"M 257.821552 469.373795 \r\nL 372.991043 469.373795 \r\n\" style=\"fill:none;stroke:#000000;stroke-linecap:square;stroke-linejoin:miter;stroke-width:0.8;\"/>\r\n   </g>\r\n   <g id=\"patch_11\">\r\n    <path d=\"M 257.821552 8.695829 \r\nL 372.991043 8.695829 \r\n\" style=\"fill:none;stroke:#000000;stroke-linecap:square;stroke-linejoin:miter;stroke-width:0.8;\"/>\r\n   </g>\r\n  </g>\r\n  <g id=\"axes_3\">\r\n   <g id=\"patch_12\">\r\n    <path d=\"M 488.718103 469.373795 \r\nL 603.887595 469.373795 \r\nL 603.887595 8.695829 \r\nL 488.718103 8.695829 \r\nz\r\n\" style=\"fill:#ffffff;\"/>\r\n   </g>\r\n   <g clip-path=\"url(#pbd372e7f52)\">\r\n    <image height=\"461\" id=\"image533eb80c9c\" transform=\"scale(1 -1)translate(0 -461)\" width=\"116\" x=\"488.718103\" xlink:href=\"data:image/png;base64,\r\niVBORw0KGgoAAAANSUhEUgAAAHQAAAHNCAYAAADPKF8uAAAFEklEQVR4nO3dwY3TUBRA0T9oqqAKikCiAZqlC6qgDVgzypc8jhP735yzYxdz9ZQ3tmO/fX/7+XeQ8eXsD8CxBI0RNEbQGEFjBI0RNEbQGEFjBI0RNEbQGEFjBI0RNEbQGEFjBI0RNEbQGEFjBI0RNEbQGEFjBI0RNEbQGEFjBI0RNEbQGEFjBI0RNEbQGEFjBI0RNEbQGEFjBI0RNEbQGEFjBI0RNEbQGEFjBI0RNEbQGEFjBI0RNEbQGEFjBI0RNEbQGEFjBI0RNEbQGEFjBI0RNEbQGEFjBI0RNEbQGEFjBI0RNEbQGEFjBI0RNEbQGEFjBI0RNEbQGEFjBI0RNEbQGEFjBI0RNEbQGEFjBI0RNEbQGEFjBI0RNEbQGEFjBI0RNEbQGEFjBI0RNEbQGEFjBI0RNEbQGEFjBI0RNEbQGEFjBI0RNEbQGEFjBI0RNEbQGEFjBI0RNEbQGEFjBI0RNEbQGEFjBI0RNEbQGEFjBI0RNEbQGEFjBI0RNEbQGEFjBI0RNEbQGEFjBI0RNEbQGEFjBI0RNEbQGEFjBI0RNEbQGEFjBI0RNEbQGEFjBI0RNEbQGEFjBI0RNEbQGEFjBI0RNEbQGEFjBI0RNEbQGEFjBI0RNEbQGEFjBI0RNEbQGEFjBI0RNEbQGEFjBI0RNEbQGEFjBI0RNEbQGEFjBI0RNEbQGEFjBI0RNEbQGEFjBI0RNEbQGEFjBI0RNEbQGEFjBI0RNEbQGEFjBI0RNEbQGEFjBI0RNEbQGEFjBI0RNEbQGEFjBI0RNEbQGEFjBI0RNEbQGEFjBI0RNEbQGEFjBI0RNEbQGEFjBI0RNEbQGEFjBI0RNEbQGEFjBI0RNEbQGEFjBI0RNEbQGEFjBI0RNEbQGEFjBI0RNEbQGEFjBI0RNEbQGEFjBI0RNEbQmPezP8BV/frz+79///j67ZTP8VkmNEbQGEFjBI3ZtBR9XBDGWGdJ2GvV4zOhMYLGCBqz6Tt01e+TezixwCUIGiNojKAxN5eiVReCI616zCY0RtAYQWMEjbm5FH1cCF7xasuqTGiMoDGCxrjaMrHqyRUTGiNojKAxgsa42jKx6jGb0BhBYwSN2XRy/hWtukeY0BhBYwSNETTG70MnVj0+ExojaIygMYLGuAXlwZ69UJrQGEFjBI15uadxPvs77dn7hwmNETRG0BhBYw5dila4beOKn+lIJjRG0BhBYwSNOXQpKi0cKyx4t5jQGEFjBI0RNEbQGEFjBI0RNEbQGEFjBI0RNMaDpyZWPWYTGiNojKAxgsZ4ktjEqouhCY0RNEbQGEFjBI0RNEbQGEFjBI0RNEbQGEFjBI15uYdmbLXqZzehMYLGCBrjGQsHO3uPMKExgsYIGiNozMs9onyrvcvN2YuhCY0RNEbQGEFjvBB2YtXjM6ExgsYIGuP9oQ/m/aHcRdAYQWMEjXG1ZeKoW0ncgsJdBI0RNMbTOCdWPWYTGiNojKAxgsZ4GufEqouhCY0RNEbQGEFj3MY5serxmdAYQWMEjTn0Ns5V/xgvMaExgsYIGiNojCeJXdTekzkmNEbQGEFjBI0RNEbQGEFjBI3x25aL2vt/bkJjBI0RNEbQGL9tuShXWxhjCJojaIygMYLGCBojaIygMYLGCBojaIygMYLGHPrbFreuHMctKIwxBM0RNMbvQy/KHQuMMQTNETRG0BjvPnuwvcuNEwuMMQTNETTGd+iE94dyCYLGCBojaMw/5Hp3AXT7pfAAAAAASUVORK5CYII=\" y=\"-8.373795\"/>\r\n   </g>\r\n   <g id=\"matplotlib.axis_5\">\r\n    <g id=\"xtick_7\">\r\n     <g id=\"line2d_17\">\r\n      <g>\r\n       <use style=\"stroke:#000000;stroke-width:0.8;\" x=\"491.021493\" xlink:href=\"#m33f425df88\" y=\"469.373795\"/>\r\n      </g>\r\n     </g>\r\n     <g id=\"text_17\">\r\n      <!-- 0 -->\r\n      <g transform=\"translate(487.840243 483.972233)scale(0.1 -0.1)\">\r\n       <use xlink:href=\"#DejaVuSans-48\"/>\r\n      </g>\r\n     </g>\r\n    </g>\r\n    <g id=\"xtick_8\">\r\n     <g id=\"line2d_18\">\r\n      <g>\r\n       <use style=\"stroke:#000000;stroke-width:0.8;\" x=\"537.08929\" xlink:href=\"#m33f425df88\" y=\"469.373795\"/>\r\n      </g>\r\n     </g>\r\n     <g id=\"text_18\">\r\n      <!-- 10 -->\r\n      <g transform=\"translate(530.72679 483.972233)scale(0.1 -0.1)\">\r\n       <use xlink:href=\"#DejaVuSans-49\"/>\r\n       <use x=\"63.623047\" xlink:href=\"#DejaVuSans-48\"/>\r\n      </g>\r\n     </g>\r\n    </g>\r\n    <g id=\"xtick_9\">\r\n     <g id=\"line2d_19\">\r\n      <g>\r\n       <use style=\"stroke:#000000;stroke-width:0.8;\" x=\"583.157086\" xlink:href=\"#m33f425df88\" y=\"469.373795\"/>\r\n      </g>\r\n     </g>\r\n     <g id=\"text_19\">\r\n      <!-- 20 -->\r\n      <g transform=\"translate(576.794586 483.972233)scale(0.1 -0.1)\">\r\n       <use xlink:href=\"#DejaVuSans-50\"/>\r\n       <use x=\"63.623047\" xlink:href=\"#DejaVuSans-48\"/>\r\n      </g>\r\n     </g>\r\n    </g>\r\n   </g>\r\n   <g id=\"matplotlib.axis_6\">\r\n    <g id=\"ytick_11\">\r\n     <g id=\"line2d_20\">\r\n      <g>\r\n       <use style=\"stroke:#000000;stroke-width:0.8;\" x=\"488.718103\" xlink:href=\"#m033900bfb7\" y=\"10.999219\"/>\r\n      </g>\r\n     </g>\r\n     <g id=\"text_20\">\r\n      <!-- 0 -->\r\n      <g transform=\"translate(475.355603 14.798437)scale(0.1 -0.1)\">\r\n       <use xlink:href=\"#DejaVuSans-48\"/>\r\n      </g>\r\n     </g>\r\n    </g>\r\n    <g id=\"ytick_12\">\r\n     <g id=\"line2d_21\">\r\n      <g>\r\n       <use style=\"stroke:#000000;stroke-width:0.8;\" x=\"488.718103\" xlink:href=\"#m033900bfb7\" y=\"103.134812\"/>\r\n      </g>\r\n     </g>\r\n     <g id=\"text_21\">\r\n      <!-- 20 -->\r\n      <g transform=\"translate(468.993103 106.934031)scale(0.1 -0.1)\">\r\n       <use xlink:href=\"#DejaVuSans-50\"/>\r\n       <use x=\"63.623047\" xlink:href=\"#DejaVuSans-48\"/>\r\n      </g>\r\n     </g>\r\n    </g>\r\n    <g id=\"ytick_13\">\r\n     <g id=\"line2d_22\">\r\n      <g>\r\n       <use style=\"stroke:#000000;stroke-width:0.8;\" x=\"488.718103\" xlink:href=\"#m033900bfb7\" y=\"195.270405\"/>\r\n      </g>\r\n     </g>\r\n     <g id=\"text_22\">\r\n      <!-- 40 -->\r\n      <g transform=\"translate(468.993103 199.069624)scale(0.1 -0.1)\">\r\n       <use xlink:href=\"#DejaVuSans-52\"/>\r\n       <use x=\"63.623047\" xlink:href=\"#DejaVuSans-48\"/>\r\n      </g>\r\n     </g>\r\n    </g>\r\n    <g id=\"ytick_14\">\r\n     <g id=\"line2d_23\">\r\n      <g>\r\n       <use style=\"stroke:#000000;stroke-width:0.8;\" x=\"488.718103\" xlink:href=\"#m033900bfb7\" y=\"287.405998\"/>\r\n      </g>\r\n     </g>\r\n     <g id=\"text_23\">\r\n      <!-- 60 -->\r\n      <g transform=\"translate(468.993103 291.205217)scale(0.1 -0.1)\">\r\n       <use xlink:href=\"#DejaVuSans-54\"/>\r\n       <use x=\"63.623047\" xlink:href=\"#DejaVuSans-48\"/>\r\n      </g>\r\n     </g>\r\n    </g>\r\n    <g id=\"ytick_15\">\r\n     <g id=\"line2d_24\">\r\n      <g>\r\n       <use style=\"stroke:#000000;stroke-width:0.8;\" x=\"488.718103\" xlink:href=\"#m033900bfb7\" y=\"379.541592\"/>\r\n      </g>\r\n     </g>\r\n     <g id=\"text_24\">\r\n      <!-- 80 -->\r\n      <g transform=\"translate(468.993103 383.34081)scale(0.1 -0.1)\">\r\n       <use xlink:href=\"#DejaVuSans-56\"/>\r\n       <use x=\"63.623047\" xlink:href=\"#DejaVuSans-48\"/>\r\n      </g>\r\n     </g>\r\n    </g>\r\n   </g>\r\n   <g id=\"patch_13\">\r\n    <path d=\"M 488.718103 469.373795 \r\nL 488.718103 8.695829 \r\n\" style=\"fill:none;stroke:#000000;stroke-linecap:square;stroke-linejoin:miter;stroke-width:0.8;\"/>\r\n   </g>\r\n   <g id=\"patch_14\">\r\n    <path d=\"M 603.887595 469.373795 \r\nL 603.887595 8.695829 \r\n\" style=\"fill:none;stroke:#000000;stroke-linecap:square;stroke-linejoin:miter;stroke-width:0.8;\"/>\r\n   </g>\r\n   <g id=\"patch_15\">\r\n    <path d=\"M 488.718103 469.373795 \r\nL 603.887595 469.373795 \r\n\" style=\"fill:none;stroke:#000000;stroke-linecap:square;stroke-linejoin:miter;stroke-width:0.8;\"/>\r\n   </g>\r\n   <g id=\"patch_16\">\r\n    <path d=\"M 488.718103 8.695829 \r\nL 603.887595 8.695829 \r\n\" style=\"fill:none;stroke:#000000;stroke-linecap:square;stroke-linejoin:miter;stroke-width:0.8;\"/>\r\n   </g>\r\n  </g>\r\n  <g id=\"axes_4\">\r\n   <g id=\"patch_17\">\r\n    <path d=\"M 719.614655 469.373795 \r\nL 834.784147 469.373795 \r\nL 834.784147 8.695829 \r\nL 719.614655 8.695829 \r\nz\r\n\" style=\"fill:#ffffff;\"/>\r\n   </g>\r\n   <g clip-path=\"url(#pd2d296c7a9)\">\r\n    <image height=\"461\" id=\"image869f8ccf24\" transform=\"scale(1 -1)translate(0 -461)\" width=\"116\" x=\"719.614655\" xlink:href=\"data:image/png;base64,\r\niVBORw0KGgoAAAANSUhEUgAAAHQAAAHNCAYAAADPKF8uAAAFLUlEQVR4nO3d0Y3TUBBAUS+iCqqgCCQaoFm6oAragG+Qn2RFjp25Oedvf1brvRp54jjxx7ePH382Mj7d/QdwLkFjBI0RNEbQGEFjBI0RNEbQGEFjBI0RNEbQGEFjBI0RNEbQGEFjBI0RNEbQGEFjBI0RNEbQGEFjBI0RNEbQGEFjBI0RNEbQGEFjBI0RNEbQGEFjBI0RNEbQGEFjBI0RNEbQGEFjBI0RNEbQGEFjBI0RNEbQGEFjBI0RNEbQGEFjBI0RNEbQGEFjBI0RNEbQGEFjBI0RNEbQGEFjBI0RNEbQGEFjBI0RNEbQGEFjBI0RNEbQGEFjBI0RNEbQGEFjBI0RNEbQGEFjBI0RNEbQGEFjBI0RNEbQGEFjBI0RNEbQGEFjBI0RNEbQGEFjBI0RNEbQGEFjBI0RNEbQGEFjBI0RNEbQGEFjBI0RNEbQGEFjBI0RNEbQGEFjBI0RNEbQGEFjBI0RNEbQGEFjBI0RNEbQGEFjBI0RNEbQGEFjBI0RNEbQGEFjBI0RNEbQGEFjBI0RNEbQGEFjBI0RNEbQGEFjBI0RNEbQGEFjBI0RNEbQGEFjBI0RNEbQGEFjBI0RNEbQGEFjBI0RNEbQGEFjBI0RNEbQGEFjBI0RNEbQGEFjBI0RNEbQGEFjBI0RNEbQGEFjBI0RNEbQGEFjBI0RNEbQGEFjBI0RNEbQGEFjBI0RNEbQGEFjBI0RNEbQGEFjBI0RNEbQGEFjBI0RNEbQGEFjBI0RNEbQGEFjBI0RNEbQGEFjBI0RNEbQGEFjBI0RNEbQGEFjBI0RNEbQGEFjBI0RNEbQGEFjBI0RNEbQGEFjBI0RNEbQGEFjBI0RNEbQGEFjBI0RNEbQGEFjBI0RNEbQGEFjBI0RNEbQGEFjBI35fOYv+/n71z8/f//y9cxfzwEmNEbQGEFjBI05dSkqLUFTFzwTGiNojKAxgsYIGiNojKAxgsYcurDw/4vsbZvzQvtRU4/PhMYIGiNozKFz6NTzySu4ev8woTGCxggaI2jMqXcsTHD1knL1QmlCYwSNETRG0JjdpWjqLYxHlI5ljwmNETRG0Jjdc2j9PHPE1D3ChMYIGiNojKAxbuNcmHp8JjRG0BhBYy6/jXPqC/YpTGiMoDGCxgga89TbON/xgsTdTGiMoDGCxgga89SlyAL0uEcXShMaI2iMoDGCxggaI2iMoDGCxggaI2iMoDGCxggaI2iMoDGCxggaI2iMoDGCxggaI2jM5V9R7gO/xzz6fzGhMYLGCBpz+TnUOfMYH4Vg2zZBcwSNETTm7Z59dtTdF0BcWGDbNkFzBI0RNEbQGEFjBI0RNMZjPhamHp8JjRE0RtAYQWMuf27Lu7l6oTShMYLGCBrjjoWFs+5YuHr/MKExgsYIGiNozO5SdPctjK9g6jGb0BhBYwSNETRmdyk6ayF4x1tX7mZCYwSNETTG80MXpl5cMaExgsYIGiNojKAxgsYIGiNojDsWFqYeswmNETRG0BhBY556x8I7unuhNKExgsYIGiNojA/8Ljy63Ny9UJrQGEFjBI0RNEbQGEFjBI0RNObUCwt3v9Nwpql/uwmNETRG0BhBY05diqYuEnumLngmNEbQGEFjPPtsYerxmdAYQWMEjRE0xrPPFlxY4CUIGiNojC/NWJh6zCY0RtAYQWMEjTn0pRnv+G7LVCY0RtAYQWMEjfFuy8LUq2UmNEbQGEFjvNuyMPWYTWiMoDGCxgga4yvKF6YuhiY0RtAYQWMEjRE0RtAYQWMEjfkLWD52cN6TcK8AAAAASUVORK5CYII=\" y=\"-8.373795\"/>\r\n   </g>\r\n   <g id=\"matplotlib.axis_7\">\r\n    <g id=\"xtick_10\">\r\n     <g id=\"line2d_25\">\r\n      <g>\r\n       <use style=\"stroke:#000000;stroke-width:0.8;\" x=\"721.918045\" xlink:href=\"#m33f425df88\" y=\"469.373795\"/>\r\n      </g>\r\n     </g>\r\n     <g id=\"text_25\">\r\n      <!-- 0 -->\r\n      <g transform=\"translate(718.736795 483.972233)scale(0.1 -0.1)\">\r\n       <use xlink:href=\"#DejaVuSans-48\"/>\r\n      </g>\r\n     </g>\r\n    </g>\r\n    <g id=\"xtick_11\">\r\n     <g id=\"line2d_26\">\r\n      <g>\r\n       <use style=\"stroke:#000000;stroke-width:0.8;\" x=\"767.985842\" xlink:href=\"#m33f425df88\" y=\"469.373795\"/>\r\n      </g>\r\n     </g>\r\n     <g id=\"text_26\">\r\n      <!-- 10 -->\r\n      <g transform=\"translate(761.623342 483.972233)scale(0.1 -0.1)\">\r\n       <use xlink:href=\"#DejaVuSans-49\"/>\r\n       <use x=\"63.623047\" xlink:href=\"#DejaVuSans-48\"/>\r\n      </g>\r\n     </g>\r\n    </g>\r\n    <g id=\"xtick_12\">\r\n     <g id=\"line2d_27\">\r\n      <g>\r\n       <use style=\"stroke:#000000;stroke-width:0.8;\" x=\"814.053638\" xlink:href=\"#m33f425df88\" y=\"469.373795\"/>\r\n      </g>\r\n     </g>\r\n     <g id=\"text_27\">\r\n      <!-- 20 -->\r\n      <g transform=\"translate(807.691138 483.972233)scale(0.1 -0.1)\">\r\n       <use xlink:href=\"#DejaVuSans-50\"/>\r\n       <use x=\"63.623047\" xlink:href=\"#DejaVuSans-48\"/>\r\n      </g>\r\n     </g>\r\n    </g>\r\n   </g>\r\n   <g id=\"matplotlib.axis_8\">\r\n    <g id=\"ytick_16\">\r\n     <g id=\"line2d_28\">\r\n      <g>\r\n       <use style=\"stroke:#000000;stroke-width:0.8;\" x=\"719.614655\" xlink:href=\"#m033900bfb7\" y=\"10.999219\"/>\r\n      </g>\r\n     </g>\r\n     <g id=\"text_28\">\r\n      <!-- 0 -->\r\n      <g transform=\"translate(706.252155 14.798437)scale(0.1 -0.1)\">\r\n       <use xlink:href=\"#DejaVuSans-48\"/>\r\n      </g>\r\n     </g>\r\n    </g>\r\n    <g id=\"ytick_17\">\r\n     <g id=\"line2d_29\">\r\n      <g>\r\n       <use style=\"stroke:#000000;stroke-width:0.8;\" x=\"719.614655\" xlink:href=\"#m033900bfb7\" y=\"103.134812\"/>\r\n      </g>\r\n     </g>\r\n     <g id=\"text_29\">\r\n      <!-- 20 -->\r\n      <g transform=\"translate(699.889655 106.934031)scale(0.1 -0.1)\">\r\n       <use xlink:href=\"#DejaVuSans-50\"/>\r\n       <use x=\"63.623047\" xlink:href=\"#DejaVuSans-48\"/>\r\n      </g>\r\n     </g>\r\n    </g>\r\n    <g id=\"ytick_18\">\r\n     <g id=\"line2d_30\">\r\n      <g>\r\n       <use style=\"stroke:#000000;stroke-width:0.8;\" x=\"719.614655\" xlink:href=\"#m033900bfb7\" y=\"195.270405\"/>\r\n      </g>\r\n     </g>\r\n     <g id=\"text_30\">\r\n      <!-- 40 -->\r\n      <g transform=\"translate(699.889655 199.069624)scale(0.1 -0.1)\">\r\n       <use xlink:href=\"#DejaVuSans-52\"/>\r\n       <use x=\"63.623047\" xlink:href=\"#DejaVuSans-48\"/>\r\n      </g>\r\n     </g>\r\n    </g>\r\n    <g id=\"ytick_19\">\r\n     <g id=\"line2d_31\">\r\n      <g>\r\n       <use style=\"stroke:#000000;stroke-width:0.8;\" x=\"719.614655\" xlink:href=\"#m033900bfb7\" y=\"287.405998\"/>\r\n      </g>\r\n     </g>\r\n     <g id=\"text_31\">\r\n      <!-- 60 -->\r\n      <g transform=\"translate(699.889655 291.205217)scale(0.1 -0.1)\">\r\n       <use xlink:href=\"#DejaVuSans-54\"/>\r\n       <use x=\"63.623047\" xlink:href=\"#DejaVuSans-48\"/>\r\n      </g>\r\n     </g>\r\n    </g>\r\n    <g id=\"ytick_20\">\r\n     <g id=\"line2d_32\">\r\n      <g>\r\n       <use style=\"stroke:#000000;stroke-width:0.8;\" x=\"719.614655\" xlink:href=\"#m033900bfb7\" y=\"379.541592\"/>\r\n      </g>\r\n     </g>\r\n     <g id=\"text_32\">\r\n      <!-- 80 -->\r\n      <g transform=\"translate(699.889655 383.34081)scale(0.1 -0.1)\">\r\n       <use xlink:href=\"#DejaVuSans-56\"/>\r\n       <use x=\"63.623047\" xlink:href=\"#DejaVuSans-48\"/>\r\n      </g>\r\n     </g>\r\n    </g>\r\n   </g>\r\n   <g id=\"patch_18\">\r\n    <path d=\"M 719.614655 469.373795 \r\nL 719.614655 8.695829 \r\n\" style=\"fill:none;stroke:#000000;stroke-linecap:square;stroke-linejoin:miter;stroke-width:0.8;\"/>\r\n   </g>\r\n   <g id=\"patch_19\">\r\n    <path d=\"M 834.784147 469.373795 \r\nL 834.784147 8.695829 \r\n\" style=\"fill:none;stroke:#000000;stroke-linecap:square;stroke-linejoin:miter;stroke-width:0.8;\"/>\r\n   </g>\r\n   <g id=\"patch_20\">\r\n    <path d=\"M 719.614655 469.373795 \r\nL 834.784147 469.373795 \r\n\" style=\"fill:none;stroke:#000000;stroke-linecap:square;stroke-linejoin:miter;stroke-width:0.8;\"/>\r\n   </g>\r\n   <g id=\"patch_21\">\r\n    <path d=\"M 719.614655 8.695829 \r\nL 834.784147 8.695829 \r\n\" style=\"fill:none;stroke:#000000;stroke-linecap:square;stroke-linejoin:miter;stroke-width:0.8;\"/>\r\n   </g>\r\n  </g>\r\n  <g id=\"axes_5\">\r\n   <g id=\"patch_22\">\r\n    <path d=\"M 950.511207 469.373795 \r\nL 1065.680698 469.373795 \r\nL 1065.680698 8.695829 \r\nL 950.511207 8.695829 \r\nz\r\n\" style=\"fill:#ffffff;\"/>\r\n   </g>\r\n   <g clip-path=\"url(#p9e24e6f31f)\">\r\n    <image height=\"461\" id=\"image8551e62e10\" transform=\"scale(1 -1)translate(0 -461)\" width=\"116\" x=\"950.511207\" xlink:href=\"data:image/png;base64,\r\niVBORw0KGgoAAAANSUhEUgAAAHQAAAHNCAYAAADPKF8uAAAFE0lEQVR4nO3dy43VQBBA0QIRBVEQBBIJkCxZEAVpwJqRR7Ke2mP7+pwdm/ldFd2y3X6fvn/6+XfI+Hz2D8BagsYIGiNojKAxgsYIGiNojKAxgsYIGiNojKAxgsYIGiNojKAxgsYIGiNojKAxgsYIGiNojKAxgsYIGiNojKAxgsYIGiNojKAxgsYIGiNojKAxgsYIGiNojKAxgsYIGiNojKAxgsYIGiNojKAxgsYIGiNojKAxgsYIGiNojKAxgsYIGiNojKAxgsYIGiNojKAxgsYIGiNojKAxgsYIGiNojKAxgsYIGiNojKAxgsYIGiNojKAxgsYIGiNojKAxgsYIGiNojKAxgsYIGiNojKAxgsYIGiNojKAxgsYIGiNojKAxgsYIGiNojKAxgsYIGiNojKAxgsYIGiNojKAxgsYIGiNojKAxgsYIGiNojKAxgsYIGiNojKAxgsYIGiNojKAxgsYIGiNojKAxgsYIGiNojKAxgsYIGiNojKAxgsYIGiNojKAxgsYIGiNojKAxgsYIGiNojKAxgsYIGiNojKAxgsYIGiNojKAxgsYIGiNojKAxgsYIGiNojKAxgsYIGiNojKAxgsYIGiNojKAxgsYIGiNojKAxgsYIGiNojKAxgsYIGiNojKAxgsYIGiNojKAxgsYIGiNojKAxgsYIGiNojKAxgsYIGiNojKAxgsYIGiNojKAxgsYIGiNojKAxgsYIGiNojKAxgsYIGiNojKAxgsYIGiNojKAxgsYIGiNojKAxgsYIGiNojKAxgsYIGiNojKAxgsYIGiNojKAxgsYIGiNojKAxgsYIGiNojKAxgsYIGiNojKAxX1Z+sV9/fv/37x9fv6388uxgQmMEjRE0Zukaas081p49igmNETRG0BhBY5Zuiljn7QZoZt+m04TGCBojaIygMYLGCBojaIygMYLGCBojaIygMYLGCBojaIygMYLGOApxUa/+7UxojKAxgsYIGuNsy0V5jJOZETRH0Jhda+ir/5/zOhcWmBlBcwSNETRm16Zo7wLtbsv5TGiMoDGCxgga427LYmdvDE1ojKAxgsYc+uKpJ96lOfv3M6ExgsYIGiNozKGborM3CHfmMU5mRtAcQWMEjRE0RtAYQWMEjRE0RtAYQWMEjRE0RtAYQWMEjRE0RtAYQWMEjRE0RtAYZ1suypvEmBlBcwSNETTG2ZaLcraFmRE0R9AYryi/KBcWmBlBcwSNETRm6SvK9zj7bZV1JjRG0BhBYzyxEGNCYwSNETRG0BhPLFyUJxaYGUFzBI0RNEbQGEFjBI0RNEbQGEFjBI0RNEbQGEFjBI0RNEbQGEFjBI0RNEbQGEFjDn2Mc4vzoft4aQYzI2iOoDGCxnz4psgmaB9nW5gZQXMEjfnwNbRu1YUTFxaYGUFzBI0RNGZzU+SOyOvO/luZ0BhBYwSN2VxDz14HruCu+wgTGiNojKAxgsY87m7L3icB7rIJesuExggaI2iMoDGP+9yWs7//0UxojKAxgsb4mI93uNvCJQgaI2iMoDGCxggaI2iMoDGCxiy9UnTXqytb7vqzm9AYQWMEjVm6ht513dly1/2ACY0RNEbQGEFjnG0ZZ1u4MEFjBI153Bp69Np49gUJExojaIygMYLGCBojaIygMYLGCBrzuCtFR7/I4+y7NCY0RtAYQWMe9zEfpd9liwmNETRG0BhBY3xuyzvuujE0oTGCxggaI2iMoDGCxggaI2jMP8VyckxNRnuVAAAAAElFTkSuQmCC\" y=\"-8.373795\"/>\r\n   </g>\r\n   <g id=\"matplotlib.axis_9\">\r\n    <g id=\"xtick_13\">\r\n     <g id=\"line2d_33\">\r\n      <g>\r\n       <use style=\"stroke:#000000;stroke-width:0.8;\" x=\"952.814597\" xlink:href=\"#m33f425df88\" y=\"469.373795\"/>\r\n      </g>\r\n     </g>\r\n     <g id=\"text_33\">\r\n      <!-- 0 -->\r\n      <g transform=\"translate(949.633347 483.972233)scale(0.1 -0.1)\">\r\n       <use xlink:href=\"#DejaVuSans-48\"/>\r\n      </g>\r\n     </g>\r\n    </g>\r\n    <g id=\"xtick_14\">\r\n     <g id=\"line2d_34\">\r\n      <g>\r\n       <use style=\"stroke:#000000;stroke-width:0.8;\" x=\"998.882393\" xlink:href=\"#m33f425df88\" y=\"469.373795\"/>\r\n      </g>\r\n     </g>\r\n     <g id=\"text_34\">\r\n      <!-- 10 -->\r\n      <g transform=\"translate(992.519893 483.972233)scale(0.1 -0.1)\">\r\n       <use xlink:href=\"#DejaVuSans-49\"/>\r\n       <use x=\"63.623047\" xlink:href=\"#DejaVuSans-48\"/>\r\n      </g>\r\n     </g>\r\n    </g>\r\n    <g id=\"xtick_15\">\r\n     <g id=\"line2d_35\">\r\n      <g>\r\n       <use style=\"stroke:#000000;stroke-width:0.8;\" x=\"1044.95019\" xlink:href=\"#m33f425df88\" y=\"469.373795\"/>\r\n      </g>\r\n     </g>\r\n     <g id=\"text_35\">\r\n      <!-- 20 -->\r\n      <g transform=\"translate(1038.58769 483.972233)scale(0.1 -0.1)\">\r\n       <use xlink:href=\"#DejaVuSans-50\"/>\r\n       <use x=\"63.623047\" xlink:href=\"#DejaVuSans-48\"/>\r\n      </g>\r\n     </g>\r\n    </g>\r\n   </g>\r\n   <g id=\"matplotlib.axis_10\">\r\n    <g id=\"ytick_21\">\r\n     <g id=\"line2d_36\">\r\n      <g>\r\n       <use style=\"stroke:#000000;stroke-width:0.8;\" x=\"950.511207\" xlink:href=\"#m033900bfb7\" y=\"10.999219\"/>\r\n      </g>\r\n     </g>\r\n     <g id=\"text_36\">\r\n      <!-- 0 -->\r\n      <g transform=\"translate(937.148707 14.798437)scale(0.1 -0.1)\">\r\n       <use xlink:href=\"#DejaVuSans-48\"/>\r\n      </g>\r\n     </g>\r\n    </g>\r\n    <g id=\"ytick_22\">\r\n     <g id=\"line2d_37\">\r\n      <g>\r\n       <use style=\"stroke:#000000;stroke-width:0.8;\" x=\"950.511207\" xlink:href=\"#m033900bfb7\" y=\"103.134812\"/>\r\n      </g>\r\n     </g>\r\n     <g id=\"text_37\">\r\n      <!-- 20 -->\r\n      <g transform=\"translate(930.786207 106.934031)scale(0.1 -0.1)\">\r\n       <use xlink:href=\"#DejaVuSans-50\"/>\r\n       <use x=\"63.623047\" xlink:href=\"#DejaVuSans-48\"/>\r\n      </g>\r\n     </g>\r\n    </g>\r\n    <g id=\"ytick_23\">\r\n     <g id=\"line2d_38\">\r\n      <g>\r\n       <use style=\"stroke:#000000;stroke-width:0.8;\" x=\"950.511207\" xlink:href=\"#m033900bfb7\" y=\"195.270405\"/>\r\n      </g>\r\n     </g>\r\n     <g id=\"text_38\">\r\n      <!-- 40 -->\r\n      <g transform=\"translate(930.786207 199.069624)scale(0.1 -0.1)\">\r\n       <use xlink:href=\"#DejaVuSans-52\"/>\r\n       <use x=\"63.623047\" xlink:href=\"#DejaVuSans-48\"/>\r\n      </g>\r\n     </g>\r\n    </g>\r\n    <g id=\"ytick_24\">\r\n     <g id=\"line2d_39\">\r\n      <g>\r\n       <use style=\"stroke:#000000;stroke-width:0.8;\" x=\"950.511207\" xlink:href=\"#m033900bfb7\" y=\"287.405998\"/>\r\n      </g>\r\n     </g>\r\n     <g id=\"text_39\">\r\n      <!-- 60 -->\r\n      <g transform=\"translate(930.786207 291.205217)scale(0.1 -0.1)\">\r\n       <use xlink:href=\"#DejaVuSans-54\"/>\r\n       <use x=\"63.623047\" xlink:href=\"#DejaVuSans-48\"/>\r\n      </g>\r\n     </g>\r\n    </g>\r\n    <g id=\"ytick_25\">\r\n     <g id=\"line2d_40\">\r\n      <g>\r\n       <use style=\"stroke:#000000;stroke-width:0.8;\" x=\"950.511207\" xlink:href=\"#m033900bfb7\" y=\"379.541592\"/>\r\n      </g>\r\n     </g>\r\n     <g id=\"text_40\">\r\n      <!-- 80 -->\r\n      <g transform=\"translate(930.786207 383.34081)scale(0.1 -0.1)\">\r\n       <use xlink:href=\"#DejaVuSans-56\"/>\r\n       <use x=\"63.623047\" xlink:href=\"#DejaVuSans-48\"/>\r\n      </g>\r\n     </g>\r\n    </g>\r\n   </g>\r\n   <g id=\"patch_23\">\r\n    <path d=\"M 950.511207 469.373795 \r\nL 950.511207 8.695829 \r\n\" style=\"fill:none;stroke:#000000;stroke-linecap:square;stroke-linejoin:miter;stroke-width:0.8;\"/>\r\n   </g>\r\n   <g id=\"patch_24\">\r\n    <path d=\"M 1065.680698 469.373795 \r\nL 1065.680698 8.695829 \r\n\" style=\"fill:none;stroke:#000000;stroke-linecap:square;stroke-linejoin:miter;stroke-width:0.8;\"/>\r\n   </g>\r\n   <g id=\"patch_25\">\r\n    <path d=\"M 950.511207 469.373795 \r\nL 1065.680698 469.373795 \r\n\" style=\"fill:none;stroke:#000000;stroke-linecap:square;stroke-linejoin:miter;stroke-width:0.8;\"/>\r\n   </g>\r\n   <g id=\"patch_26\">\r\n    <path d=\"M 950.511207 8.695829 \r\nL 1065.680698 8.695829 \r\n\" style=\"fill:none;stroke:#000000;stroke-linecap:square;stroke-linejoin:miter;stroke-width:0.8;\"/>\r\n   </g>\r\n  </g>\r\n  <g id=\"axes_6\">\r\n   <g id=\"patch_27\">\r\n    <path d=\"M 26.925 1022.187354 \r\nL 142.094492 1022.187354 \r\nL 142.094492 561.509388 \r\nL 26.925 561.509388 \r\nz\r\n\" style=\"fill:#ffffff;\"/>\r\n   </g>\r\n   <g clip-path=\"url(#p3b78206e80)\">\r\n    <image height=\"461\" id=\"image7ca0fc8ce2\" transform=\"scale(1 -1)translate(0 -461)\" width=\"116\" x=\"26.925\" xlink:href=\"data:image/png;base64,\r\niVBORw0KGgoAAAANSUhEUgAAAHQAAAHNCAYAAADPKF8uAAAFRklEQVR4nO3dwW3jVhhG0W+CVJEqUkSANJBmp4tUkTaSzWxi0ICgoSXq6pydN4bliwf+fnykv/3x7a9/R8Yvz/4BOJegMYLGCBojaIygMYLGCBojaIygMYLGCBojaIygMYLGCBojaIygMYLGCBojaIygMYLGCBojaIygMYLGCBojaIygMYLGCBojaIygMYLGCBojaIygMYLGCBojaIygMYLGCBojaIygMYLGCBojaIygMYLGCBojaIygMYLGCBojaIygMYLGCBojaIygMYLGCBojaIygMYLGCBojaIygMYLGCBojaIygMYLGCBojaIygMYLGCBojaIygMYLGCBojaIygMYLGCBojaIygMYLGCBojaIygMYLGCBojaIygMYLGCBojaIygMYLGCBojaIygMYLGCBojaIygMYLGCBojaIygMYLGCBojaIygMYLGCBojaIygMYLGCBojaIygMYLGCBojaIygMYLGCBojaIygMYLGCBojaIygMYLGCBojaIygMYLGCBojaIygMYLGCBojaIygMYLGCBojaIygMYLGCBojaIygMYLGCBojaIygMYLGCBojaIygMYLGCBojaIygMYLGCBojaIygMYLGCBojaIygMYLGCBojaIygMYLGCBojaIygMYLGCBojaIygMYLGCBojaIygMYLGCBojaIygMYLGCBojaIygMYLGCBojaIygMYLGCBojaIygMYLGCBojaIygMYLGCBojaIygMYLGCBojaIygMYLGCBojaIygMYLGCBojaIygMYLGCBojaIygMYLGCBojaIygMYLGCBojaIygMYLGCBojaIygMYLGCBrz65nf7Ps/f//v6z9/+/3Mb88NrNAYQWMEjRE05tShyBB0no8D5nbb79cKjRE0RtCYU6+hH917HeD+35MVGiNojKAxgsZ86VBkALqfjQW2CZojaMyXXkOPONVwGxsLbBM0R9AYQWMePhQZgm5jY4FtguYIGiNojKAxgsYIGiNozMM3Fj5y1POYuy1sEzRH0BhBY54+FBmAjrnbwjZBcwSNueka6o//x7OxwDZBcwSNETTmpqHo0QOQIex+VmiMoDGCxgga8/S7LUcMQMdueVjaCo0RNEbQmEteQ3FigR8EjRE0RtAYR1AuyhEUtgmaI2jMJU8sXMGrvjXUCo0RNEbQGEFjDoeiVx0IzvSqn9kKjRE0RtAYQWMOh6JXHQhKHEFhm6A5gsYIGiNojKAxgsYIGiNojKAxgsYIGiNozCUf+PUsjWdb+EHQGEFjLnkNfbfr5REnFtgmaI6gMYLGeLblomwssE3QHEFjPApxUTYW2CZojqAxgsZc8m4LxwOQf/PxhgSNETRG0BhD0UXZKWKboDmCxggaI2iMoDGCxgga8/SNBc+CHnOMk22C5gga8/RrqOvlMZvzbBM0R9AYQWP8U/WLsrHANkFzBI0RNOamoegdB6BXfXGIFRojaIygMV489YlX/cxWaIygMYLGCBrjTWIX5QgK2wTNETTm4cc4bVrcxokFtgmaI2iMoDEPH4oMQbexscA2QXMEjRE0xrMtF2WniG2C5gga41GIT7zqXSErNEbQGEFjBI3xbMsnXvUzW6ExgsYIGiNojGdbTvbsgdIKjRE0RtCYLz3G+Y4nHZ79+azQGEFjBI0RNOZLh6JnDwivzLMtbBM0R9AYQWMEjRE0RtAYQWMEjRE0RtAYQWMEjTn1bsuzjzCWeGkG2wTNETTm1Guoa+Z5nFhgm6A5gsYIGvPwV5S/m3uHGxsLbBM0R9AY19BPnHWjwTsW+CmCxggaI2jMf5j6knd9xRcrAAAAAElFTkSuQmCC\" y=\"-561.187354\"/>\r\n   </g>\r\n   <g id=\"matplotlib.axis_11\">\r\n    <g id=\"xtick_16\">\r\n     <g id=\"line2d_41\">\r\n      <g>\r\n       <use style=\"stroke:#000000;stroke-width:0.8;\" x=\"29.22839\" xlink:href=\"#m33f425df88\" y=\"1022.187354\"/>\r\n      </g>\r\n     </g>\r\n     <g id=\"text_41\">\r\n      <!-- 0 -->\r\n      <g transform=\"translate(26.04714 1036.785792)scale(0.1 -0.1)\">\r\n       <use xlink:href=\"#DejaVuSans-48\"/>\r\n      </g>\r\n     </g>\r\n    </g>\r\n    <g id=\"xtick_17\">\r\n     <g id=\"line2d_42\">\r\n      <g>\r\n       <use style=\"stroke:#000000;stroke-width:0.8;\" x=\"75.296186\" xlink:href=\"#m33f425df88\" y=\"1022.187354\"/>\r\n      </g>\r\n     </g>\r\n     <g id=\"text_42\">\r\n      <!-- 10 -->\r\n      <g transform=\"translate(68.933686 1036.785792)scale(0.1 -0.1)\">\r\n       <use xlink:href=\"#DejaVuSans-49\"/>\r\n       <use x=\"63.623047\" xlink:href=\"#DejaVuSans-48\"/>\r\n      </g>\r\n     </g>\r\n    </g>\r\n    <g id=\"xtick_18\">\r\n     <g id=\"line2d_43\">\r\n      <g>\r\n       <use style=\"stroke:#000000;stroke-width:0.8;\" x=\"121.363983\" xlink:href=\"#m33f425df88\" y=\"1022.187354\"/>\r\n      </g>\r\n     </g>\r\n     <g id=\"text_43\">\r\n      <!-- 20 -->\r\n      <g transform=\"translate(115.001483 1036.785792)scale(0.1 -0.1)\">\r\n       <use xlink:href=\"#DejaVuSans-50\"/>\r\n       <use x=\"63.623047\" xlink:href=\"#DejaVuSans-48\"/>\r\n      </g>\r\n     </g>\r\n    </g>\r\n   </g>\r\n   <g id=\"matplotlib.axis_12\">\r\n    <g id=\"ytick_26\">\r\n     <g id=\"line2d_44\">\r\n      <g>\r\n       <use style=\"stroke:#000000;stroke-width:0.8;\" x=\"26.925\" xlink:href=\"#m033900bfb7\" y=\"563.812778\"/>\r\n      </g>\r\n     </g>\r\n     <g id=\"text_44\">\r\n      <!-- 0 -->\r\n      <g transform=\"translate(13.5625 567.611997)scale(0.1 -0.1)\">\r\n       <use xlink:href=\"#DejaVuSans-48\"/>\r\n      </g>\r\n     </g>\r\n    </g>\r\n    <g id=\"ytick_27\">\r\n     <g id=\"line2d_45\">\r\n      <g>\r\n       <use style=\"stroke:#000000;stroke-width:0.8;\" x=\"26.925\" xlink:href=\"#m033900bfb7\" y=\"655.948371\"/>\r\n      </g>\r\n     </g>\r\n     <g id=\"text_45\">\r\n      <!-- 20 -->\r\n      <g transform=\"translate(7.2 659.74759)scale(0.1 -0.1)\">\r\n       <use xlink:href=\"#DejaVuSans-50\"/>\r\n       <use x=\"63.623047\" xlink:href=\"#DejaVuSans-48\"/>\r\n      </g>\r\n     </g>\r\n    </g>\r\n    <g id=\"ytick_28\">\r\n     <g id=\"line2d_46\">\r\n      <g>\r\n       <use style=\"stroke:#000000;stroke-width:0.8;\" x=\"26.925\" xlink:href=\"#m033900bfb7\" y=\"748.083965\"/>\r\n      </g>\r\n     </g>\r\n     <g id=\"text_46\">\r\n      <!-- 40 -->\r\n      <g transform=\"translate(7.2 751.883183)scale(0.1 -0.1)\">\r\n       <use xlink:href=\"#DejaVuSans-52\"/>\r\n       <use x=\"63.623047\" xlink:href=\"#DejaVuSans-48\"/>\r\n      </g>\r\n     </g>\r\n    </g>\r\n    <g id=\"ytick_29\">\r\n     <g id=\"line2d_47\">\r\n      <g>\r\n       <use style=\"stroke:#000000;stroke-width:0.8;\" x=\"26.925\" xlink:href=\"#m033900bfb7\" y=\"840.219558\"/>\r\n      </g>\r\n     </g>\r\n     <g id=\"text_47\">\r\n      <!-- 60 -->\r\n      <g transform=\"translate(7.2 844.018776)scale(0.1 -0.1)\">\r\n       <use xlink:href=\"#DejaVuSans-54\"/>\r\n       <use x=\"63.623047\" xlink:href=\"#DejaVuSans-48\"/>\r\n      </g>\r\n     </g>\r\n    </g>\r\n    <g id=\"ytick_30\">\r\n     <g id=\"line2d_48\">\r\n      <g>\r\n       <use style=\"stroke:#000000;stroke-width:0.8;\" x=\"26.925\" xlink:href=\"#m033900bfb7\" y=\"932.355151\"/>\r\n      </g>\r\n     </g>\r\n     <g id=\"text_48\">\r\n      <!-- 80 -->\r\n      <g transform=\"translate(7.2 936.15437)scale(0.1 -0.1)\">\r\n       <use xlink:href=\"#DejaVuSans-56\"/>\r\n       <use x=\"63.623047\" xlink:href=\"#DejaVuSans-48\"/>\r\n      </g>\r\n     </g>\r\n    </g>\r\n   </g>\r\n   <g id=\"patch_28\">\r\n    <path d=\"M 26.925 1022.187354 \r\nL 26.925 561.509388 \r\n\" style=\"fill:none;stroke:#000000;stroke-linecap:square;stroke-linejoin:miter;stroke-width:0.8;\"/>\r\n   </g>\r\n   <g id=\"patch_29\">\r\n    <path d=\"M 142.094492 1022.187354 \r\nL 142.094492 561.509388 \r\n\" style=\"fill:none;stroke:#000000;stroke-linecap:square;stroke-linejoin:miter;stroke-width:0.8;\"/>\r\n   </g>\r\n   <g id=\"patch_30\">\r\n    <path d=\"M 26.925 1022.187354 \r\nL 142.094492 1022.187354 \r\n\" style=\"fill:none;stroke:#000000;stroke-linecap:square;stroke-linejoin:miter;stroke-width:0.8;\"/>\r\n   </g>\r\n   <g id=\"patch_31\">\r\n    <path d=\"M 26.925 561.509388 \r\nL 142.094492 561.509388 \r\n\" style=\"fill:none;stroke:#000000;stroke-linecap:square;stroke-linejoin:miter;stroke-width:0.8;\"/>\r\n   </g>\r\n  </g>\r\n  <g id=\"axes_7\">\r\n   <g id=\"patch_32\">\r\n    <path d=\"M 257.821552 1022.187354 \r\nL 372.991043 1022.187354 \r\nL 372.991043 561.509388 \r\nL 257.821552 561.509388 \r\nz\r\n\" style=\"fill:#ffffff;\"/>\r\n   </g>\r\n   <g clip-path=\"url(#p66caed99b4)\">\r\n    <image height=\"461\" id=\"image9ce56f8505\" transform=\"scale(1 -1)translate(0 -461)\" width=\"116\" x=\"257.821552\" xlink:href=\"data:image/png;base64,\r\niVBORw0KGgoAAAANSUhEUgAAAHQAAAHNCAYAAADPKF8uAAAFQUlEQVR4nO3dwY3cNgCG0d9BqnAVKSKAG0iz6SJVuI3kkpO9AwzGM1rpm/eOPti7/kCQICnpy59f/vp3ZPz22T8AzyVojKAxgsYIGiNojKAxgsYIGiNojKAxgsYIGiNojKAxgsYIGiNojKAxgsYIGiNojKAxgsYIGiNojKAxgsYIGiNojKAxgsYIGiNojKAxgsYIGiNojKAxgsYIGiNojKAxgsYIGiNojKAxgsYIGiNojKAxgsYIGiNojKAxgsYIGiNojKAxgsYIGiNojKAxgsYIGiNojKAxgsYIGiNojKAxgsYIGiNojKAxgsYIGiNojKAxgsYIGiNojKAxgsYIGiNojKAxgsYIGiNojKAxgsYIGiNojKAxgsYIGiNojKAxgsYIGiNojKAxgsYIGiNojKAxgsYIGiNojKAxgsYIGiNojKAxgsYIGiNojKAxgsYIGiNojKAxgsYIGiNojKAxgsYIGiNojKAxgsYIGiNojKAxgsYIGiNojKAxgsYIGiNojKAxgsYIGiNojKAxgsYIGiNojKAxgsYIGiNojKAxgsYIGiNojKAxgsYIGiNojKAxgsYIGiNojKAxgsYIGiNojKAxgsYIGiNojKAxgsYIGiNojKAxgsYIGiNojKAxgsYIGiNojKAxgsYIGiNojKAxgsYIGiNojKAxgsYIGiNojKAxgsYIGiNojKAxgsYIGiNojKAxgsYIGiNojKAxgsYIGiNojKAxgsYIGiNojKAxgsYIGiNojKAxgsYIGvP7K//yv7//89Offfv6xyv/ybdnhMYIGiNojKAxT10U/bgIsgA6nhEaI2iMoDFPnUPNmc/z6KaMERojaIygMYLG3LUocmpyvEf/f43QGEFjBI25aw59x/nyqgcNRmiMoDGCxgga8+Gi6KoLgme66u9shMYIGiNojKAxHy6KrrogKHEFhW2C5gga48bCSbmxwDZBcwSNETTm8CsoTnJeywiNETRG0JiXvnjqI+bMx92z/jBCYwSNETRG0JjDF0Xcx40FtgmaI2iMoDGuoJyUKyhsEzRH0BgvzbjhqjcrjNAYQWMEjRE0xkszbrjq72yExggaI2iMdyyclBsLbBM0R9AYQWMEjRE0RtAYQWMEjRE0RtAYQWMEjTn8+VC3Ie7jUQi2CZojaIygMd4kdlKuoLBN0BxBY2wsnJSNBbYJmiNojKAxNhZOysYC2wTNETRG0BivKD+pjxZAvtvyhgSNETTGHHpSNhbYJmiOoDGCxggaI2iMoDGCxgga4xXlJ+VeLtsEzRE0xivKT8ppC9sEzRE0RtAYD/yelI0FtgmaI2iM50NPysYC2wTNETRG0BhBYwSNETRG0BhBY166U/TobgdOW/ifoDGCxrx0DjVfPs5pC9sEzRE0RtAYGwsnZWOBbYLmCBpjY+GkbCywTdAcQWMEjRE0RtAYQWMEjRE05q6dIqcmx3PawjZBcwSNuWsONV8+7uj1hxEaI2iMoDGCxrzdB2GPXqQcvaA0QmMEjRE05u0256/6c9/LCI0RNEbQGEFjnLbccNXPkRihMYLGCBojaIyPqt9w1d/ZCI0RNEbQGB9Vv+Gq6wgjNEbQGEFjBI15u2uc93rWIsizLfwSQWMEjRE0xmnLi3m2hV8iaIygMU5bTsorytkmaI6gMYLGCBojaIygMYLGCBojaIygMYLGCBrjo+on5TMfbBM0R9AYQWNeuiiyAHqcKyhsEzRH0JinzqEeoXgeGwtsEzRH0BhBY566KLII+vyFoREaI2iMoDFePHXDo3PhZ68jjNAYQWMEjRE05j8sc6AymQD16QAAAABJRU5ErkJggg==\" y=\"-561.187354\"/>\r\n   </g>\r\n   <g id=\"matplotlib.axis_13\">\r\n    <g id=\"xtick_19\">\r\n     <g id=\"line2d_49\">\r\n      <g>\r\n       <use style=\"stroke:#000000;stroke-width:0.8;\" x=\"260.124942\" xlink:href=\"#m33f425df88\" y=\"1022.187354\"/>\r\n      </g>\r\n     </g>\r\n     <g id=\"text_49\">\r\n      <!-- 0 -->\r\n      <g transform=\"translate(256.943692 1036.785792)scale(0.1 -0.1)\">\r\n       <use xlink:href=\"#DejaVuSans-48\"/>\r\n      </g>\r\n     </g>\r\n    </g>\r\n    <g id=\"xtick_20\">\r\n     <g id=\"line2d_50\">\r\n      <g>\r\n       <use style=\"stroke:#000000;stroke-width:0.8;\" x=\"306.192738\" xlink:href=\"#m33f425df88\" y=\"1022.187354\"/>\r\n      </g>\r\n     </g>\r\n     <g id=\"text_50\">\r\n      <!-- 10 -->\r\n      <g transform=\"translate(299.830238 1036.785792)scale(0.1 -0.1)\">\r\n       <use xlink:href=\"#DejaVuSans-49\"/>\r\n       <use x=\"63.623047\" xlink:href=\"#DejaVuSans-48\"/>\r\n      </g>\r\n     </g>\r\n    </g>\r\n    <g id=\"xtick_21\">\r\n     <g id=\"line2d_51\">\r\n      <g>\r\n       <use style=\"stroke:#000000;stroke-width:0.8;\" x=\"352.260535\" xlink:href=\"#m33f425df88\" y=\"1022.187354\"/>\r\n      </g>\r\n     </g>\r\n     <g id=\"text_51\">\r\n      <!-- 20 -->\r\n      <g transform=\"translate(345.898035 1036.785792)scale(0.1 -0.1)\">\r\n       <use xlink:href=\"#DejaVuSans-50\"/>\r\n       <use x=\"63.623047\" xlink:href=\"#DejaVuSans-48\"/>\r\n      </g>\r\n     </g>\r\n    </g>\r\n   </g>\r\n   <g id=\"matplotlib.axis_14\">\r\n    <g id=\"ytick_31\">\r\n     <g id=\"line2d_52\">\r\n      <g>\r\n       <use style=\"stroke:#000000;stroke-width:0.8;\" x=\"257.821552\" xlink:href=\"#m033900bfb7\" y=\"563.812778\"/>\r\n      </g>\r\n     </g>\r\n     <g id=\"text_52\">\r\n      <!-- 0 -->\r\n      <g transform=\"translate(244.459052 567.611997)scale(0.1 -0.1)\">\r\n       <use xlink:href=\"#DejaVuSans-48\"/>\r\n      </g>\r\n     </g>\r\n    </g>\r\n    <g id=\"ytick_32\">\r\n     <g id=\"line2d_53\">\r\n      <g>\r\n       <use style=\"stroke:#000000;stroke-width:0.8;\" x=\"257.821552\" xlink:href=\"#m033900bfb7\" y=\"655.948371\"/>\r\n      </g>\r\n     </g>\r\n     <g id=\"text_53\">\r\n      <!-- 20 -->\r\n      <g transform=\"translate(238.096552 659.74759)scale(0.1 -0.1)\">\r\n       <use xlink:href=\"#DejaVuSans-50\"/>\r\n       <use x=\"63.623047\" xlink:href=\"#DejaVuSans-48\"/>\r\n      </g>\r\n     </g>\r\n    </g>\r\n    <g id=\"ytick_33\">\r\n     <g id=\"line2d_54\">\r\n      <g>\r\n       <use style=\"stroke:#000000;stroke-width:0.8;\" x=\"257.821552\" xlink:href=\"#m033900bfb7\" y=\"748.083965\"/>\r\n      </g>\r\n     </g>\r\n     <g id=\"text_54\">\r\n      <!-- 40 -->\r\n      <g transform=\"translate(238.096552 751.883183)scale(0.1 -0.1)\">\r\n       <use xlink:href=\"#DejaVuSans-52\"/>\r\n       <use x=\"63.623047\" xlink:href=\"#DejaVuSans-48\"/>\r\n      </g>\r\n     </g>\r\n    </g>\r\n    <g id=\"ytick_34\">\r\n     <g id=\"line2d_55\">\r\n      <g>\r\n       <use style=\"stroke:#000000;stroke-width:0.8;\" x=\"257.821552\" xlink:href=\"#m033900bfb7\" y=\"840.219558\"/>\r\n      </g>\r\n     </g>\r\n     <g id=\"text_55\">\r\n      <!-- 60 -->\r\n      <g transform=\"translate(238.096552 844.018776)scale(0.1 -0.1)\">\r\n       <use xlink:href=\"#DejaVuSans-54\"/>\r\n       <use x=\"63.623047\" xlink:href=\"#DejaVuSans-48\"/>\r\n      </g>\r\n     </g>\r\n    </g>\r\n    <g id=\"ytick_35\">\r\n     <g id=\"line2d_56\">\r\n      <g>\r\n       <use style=\"stroke:#000000;stroke-width:0.8;\" x=\"257.821552\" xlink:href=\"#m033900bfb7\" y=\"932.355151\"/>\r\n      </g>\r\n     </g>\r\n     <g id=\"text_56\">\r\n      <!-- 80 -->\r\n      <g transform=\"translate(238.096552 936.15437)scale(0.1 -0.1)\">\r\n       <use xlink:href=\"#DejaVuSans-56\"/>\r\n       <use x=\"63.623047\" xlink:href=\"#DejaVuSans-48\"/>\r\n      </g>\r\n     </g>\r\n    </g>\r\n   </g>\r\n   <g id=\"patch_33\">\r\n    <path d=\"M 257.821552 1022.187354 \r\nL 257.821552 561.509388 \r\n\" style=\"fill:none;stroke:#000000;stroke-linecap:square;stroke-linejoin:miter;stroke-width:0.8;\"/>\r\n   </g>\r\n   <g id=\"patch_34\">\r\n    <path d=\"M 372.991043 1022.187354 \r\nL 372.991043 561.509388 \r\n\" style=\"fill:none;stroke:#000000;stroke-linecap:square;stroke-linejoin:miter;stroke-width:0.8;\"/>\r\n   </g>\r\n   <g id=\"patch_35\">\r\n    <path d=\"M 257.821552 1022.187354 \r\nL 372.991043 1022.187354 \r\n\" style=\"fill:none;stroke:#000000;stroke-linecap:square;stroke-linejoin:miter;stroke-width:0.8;\"/>\r\n   </g>\r\n   <g id=\"patch_36\">\r\n    <path d=\"M 257.821552 561.509388 \r\nL 372.991043 561.509388 \r\n\" style=\"fill:none;stroke:#000000;stroke-linecap:square;stroke-linejoin:miter;stroke-width:0.8;\"/>\r\n   </g>\r\n  </g>\r\n  <g id=\"axes_8\">\r\n   <g id=\"patch_37\">\r\n    <path d=\"M 488.718103 1022.187354 \r\nL 603.887595 1022.187354 \r\nL 603.887595 561.509388 \r\nL 488.718103 561.509388 \r\nz\r\n\" style=\"fill:#ffffff;\"/>\r\n   </g>\r\n   <g clip-path=\"url(#p8479d3599a)\">\r\n    <image height=\"461\" id=\"image346e0590c7\" transform=\"scale(1 -1)translate(0 -461)\" width=\"116\" x=\"488.718103\" xlink:href=\"data:image/png;base64,\r\niVBORw0KGgoAAAANSUhEUgAAAHQAAAHNCAYAAADPKF8uAAAEcElEQVR4nO3cwQnCMABA0VScwikcQnABl3ULp3ANveutRK2f9469NPQTEgLpclouj0HG7tcDYC5BYwSNETRG0BhBYwSNETRG0BhBYwSNETRG0BhBYwSNETRG0BhBYwSNETRG0BhBYwSNETRG0BhBYwSNETRG0BhBYwSNETRG0BhBYwSNETRG0BhBYwSNETRG0BhBYwSNETRG0BhBYwSNETRG0BhBYwSNETRG0BhBYwSNETRG0BhBYwSNETRG0BhBYwSNETRG0BhBYwSNETRG0BhBYwSNETRG0BhBYwSNETRG0BhBYwSNETRG0BhBYwSNETRG0BhBYwSNETRG0BhBYwSNETRG0BhBYwSNETRG0BhBYwSNETRG0BhBYwSNETRG0BhBYwSNETRG0BhBYwSNETRG0BhBYwSNETRG0BhBYwSNETRG0BhBYwSNETRG0BhBYwSNETRG0BhBYwSNETRG0BhBYwSNETRG0BhBYwSNETRG0BhBYwSNETRG0BhBYwSNETRG0BhBYwSNETRG0BhBYwSNETRG0BhBYwSNETRG0BhBYwSNETRG0BhBYwSNETRG0BhBYwSNETRG0BhBYwSNETRG0BhBYwSNETRG0BhBYwSNETRG0BhBYwSNETRG0BhBYwSNETRG0BhBYwSNETRG0BhBYwSNETRG0BhBYwSNETRG0BhBYwSNETRG0BhBYwSNETRG0BhBYwSNETRG0BhBYwSNETRG0BhBYwSNETRG0BhBYwSNETRG0BhBYwSNETRG0BhBYwSNETRG0BhBYwSNETRG0BhBYwSNETRG0BhBYwSNETRG0BhBYwSNETRG0BhBYwSNETRG0BhBYwSNETRG0BhBYwSNETRG0BhBYwSNETRG0BhBYwSNETRG0BhBYwSNETRG0BhBYwSNETRG0BhBYwSNETRG0BhBYwSNETRG0BhBYwSNETRG0BhBYwSNETRG0BhBYwSNETRG0BhBYwSNETRG0BhBYwSNETRG0BhBYwSNETRG0BhBYwSNETRG0BhBYwSNETRG0BhBYwSNETRG0BhBYwSNETRG0BhBYwSNETRG0BhBYwSNETRG0BhBYwSNETRG0BhBYwSNETRG0BhBYwSNETRG0BhBYwSNETRG0BhBYwSNETRG0BhBYwSNETRG0BhBYwSNETRG0BhBYwSNETRG0BhBYwSNETRG0BhBYwSNETRG0BhBYwSNETRG0BhBYwSNETRG0BhBYwSNETRG0BhBYwSNETRG0BhBYwSNETRG0BhBYwSNETRG0BhBYwSNETRG0BhBYwSNETRG0BhBYwSNETRG0BhBY/a/HkDd9X57e3Y+HD/2PjM0RtAYQWMEjZm6KXrdAHxy8f8X3/4GZmiMoDGCxkxdQ62Z86w9kDBDYwSNETRG0BhBYwSNETRG0BhBYwSNETRG0BhBYwSNETRG0BhBYwSNETRG0BhBYwSNcRVio9Z+OzM0RtAYQWMEjXG3ZaPcbWGMIWiOoDF+PDXZrMMVBwuMMQTNETRG0JgnVZwaE992aA0AAAAASUVORK5CYII=\" y=\"-561.187354\"/>\r\n   </g>\r\n   <g id=\"matplotlib.axis_15\">\r\n    <g id=\"xtick_22\">\r\n     <g id=\"line2d_57\">\r\n      <g>\r\n       <use style=\"stroke:#000000;stroke-width:0.8;\" x=\"491.021493\" xlink:href=\"#m33f425df88\" y=\"1022.187354\"/>\r\n      </g>\r\n     </g>\r\n     <g id=\"text_57\">\r\n      <!-- 0 -->\r\n      <g transform=\"translate(487.840243 1036.785792)scale(0.1 -0.1)\">\r\n       <use xlink:href=\"#DejaVuSans-48\"/>\r\n      </g>\r\n     </g>\r\n    </g>\r\n    <g id=\"xtick_23\">\r\n     <g id=\"line2d_58\">\r\n      <g>\r\n       <use style=\"stroke:#000000;stroke-width:0.8;\" x=\"537.08929\" xlink:href=\"#m33f425df88\" y=\"1022.187354\"/>\r\n      </g>\r\n     </g>\r\n     <g id=\"text_58\">\r\n      <!-- 10 -->\r\n      <g transform=\"translate(530.72679 1036.785792)scale(0.1 -0.1)\">\r\n       <use xlink:href=\"#DejaVuSans-49\"/>\r\n       <use x=\"63.623047\" xlink:href=\"#DejaVuSans-48\"/>\r\n      </g>\r\n     </g>\r\n    </g>\r\n    <g id=\"xtick_24\">\r\n     <g id=\"line2d_59\">\r\n      <g>\r\n       <use style=\"stroke:#000000;stroke-width:0.8;\" x=\"583.157086\" xlink:href=\"#m33f425df88\" y=\"1022.187354\"/>\r\n      </g>\r\n     </g>\r\n     <g id=\"text_59\">\r\n      <!-- 20 -->\r\n      <g transform=\"translate(576.794586 1036.785792)scale(0.1 -0.1)\">\r\n       <use xlink:href=\"#DejaVuSans-50\"/>\r\n       <use x=\"63.623047\" xlink:href=\"#DejaVuSans-48\"/>\r\n      </g>\r\n     </g>\r\n    </g>\r\n   </g>\r\n   <g id=\"matplotlib.axis_16\">\r\n    <g id=\"ytick_36\">\r\n     <g id=\"line2d_60\">\r\n      <g>\r\n       <use style=\"stroke:#000000;stroke-width:0.8;\" x=\"488.718103\" xlink:href=\"#m033900bfb7\" y=\"563.812778\"/>\r\n      </g>\r\n     </g>\r\n     <g id=\"text_60\">\r\n      <!-- 0 -->\r\n      <g transform=\"translate(475.355603 567.611997)scale(0.1 -0.1)\">\r\n       <use xlink:href=\"#DejaVuSans-48\"/>\r\n      </g>\r\n     </g>\r\n    </g>\r\n    <g id=\"ytick_37\">\r\n     <g id=\"line2d_61\">\r\n      <g>\r\n       <use style=\"stroke:#000000;stroke-width:0.8;\" x=\"488.718103\" xlink:href=\"#m033900bfb7\" y=\"655.948371\"/>\r\n      </g>\r\n     </g>\r\n     <g id=\"text_61\">\r\n      <!-- 20 -->\r\n      <g transform=\"translate(468.993103 659.74759)scale(0.1 -0.1)\">\r\n       <use xlink:href=\"#DejaVuSans-50\"/>\r\n       <use x=\"63.623047\" xlink:href=\"#DejaVuSans-48\"/>\r\n      </g>\r\n     </g>\r\n    </g>\r\n    <g id=\"ytick_38\">\r\n     <g id=\"line2d_62\">\r\n      <g>\r\n       <use style=\"stroke:#000000;stroke-width:0.8;\" x=\"488.718103\" xlink:href=\"#m033900bfb7\" y=\"748.083965\"/>\r\n      </g>\r\n     </g>\r\n     <g id=\"text_62\">\r\n      <!-- 40 -->\r\n      <g transform=\"translate(468.993103 751.883183)scale(0.1 -0.1)\">\r\n       <use xlink:href=\"#DejaVuSans-52\"/>\r\n       <use x=\"63.623047\" xlink:href=\"#DejaVuSans-48\"/>\r\n      </g>\r\n     </g>\r\n    </g>\r\n    <g id=\"ytick_39\">\r\n     <g id=\"line2d_63\">\r\n      <g>\r\n       <use style=\"stroke:#000000;stroke-width:0.8;\" x=\"488.718103\" xlink:href=\"#m033900bfb7\" y=\"840.219558\"/>\r\n      </g>\r\n     </g>\r\n     <g id=\"text_63\">\r\n      <!-- 60 -->\r\n      <g transform=\"translate(468.993103 844.018776)scale(0.1 -0.1)\">\r\n       <use xlink:href=\"#DejaVuSans-54\"/>\r\n       <use x=\"63.623047\" xlink:href=\"#DejaVuSans-48\"/>\r\n      </g>\r\n     </g>\r\n    </g>\r\n    <g id=\"ytick_40\">\r\n     <g id=\"line2d_64\">\r\n      <g>\r\n       <use style=\"stroke:#000000;stroke-width:0.8;\" x=\"488.718103\" xlink:href=\"#m033900bfb7\" y=\"932.355151\"/>\r\n      </g>\r\n     </g>\r\n     <g id=\"text_64\">\r\n      <!-- 80 -->\r\n      <g transform=\"translate(468.993103 936.15437)scale(0.1 -0.1)\">\r\n       <use xlink:href=\"#DejaVuSans-56\"/>\r\n       <use x=\"63.623047\" xlink:href=\"#DejaVuSans-48\"/>\r\n      </g>\r\n     </g>\r\n    </g>\r\n   </g>\r\n   <g id=\"patch_38\">\r\n    <path d=\"M 488.718103 1022.187354 \r\nL 488.718103 561.509388 \r\n\" style=\"fill:none;stroke:#000000;stroke-linecap:square;stroke-linejoin:miter;stroke-width:0.8;\"/>\r\n   </g>\r\n   <g id=\"patch_39\">\r\n    <path d=\"M 603.887595 1022.187354 \r\nL 603.887595 561.509388 \r\n\" style=\"fill:none;stroke:#000000;stroke-linecap:square;stroke-linejoin:miter;stroke-width:0.8;\"/>\r\n   </g>\r\n   <g id=\"patch_40\">\r\n    <path d=\"M 488.718103 1022.187354 \r\nL 603.887595 1022.187354 \r\n\" style=\"fill:none;stroke:#000000;stroke-linecap:square;stroke-linejoin:miter;stroke-width:0.8;\"/>\r\n   </g>\r\n   <g id=\"patch_41\">\r\n    <path d=\"M 488.718103 561.509388 \r\nL 603.887595 561.509388 \r\n\" style=\"fill:none;stroke:#000000;stroke-linecap:square;stroke-linejoin:miter;stroke-width:0.8;\"/>\r\n   </g>\r\n  </g>\r\n  <g id=\"axes_9\">\r\n   <g id=\"patch_42\">\r\n    <path d=\"M 719.614655 1022.187354 \r\nL 834.784147 1022.187354 \r\nL 834.784147 561.509388 \r\nL 719.614655 561.509388 \r\nz\r\n\" style=\"fill:#ffffff;\"/>\r\n   </g>\r\n   <g clip-path=\"url(#p246f3d0764)\">\r\n    <image height=\"461\" id=\"image2b113fa9e2\" transform=\"scale(1 -1)translate(0 -461)\" width=\"116\" x=\"719.614655\" xlink:href=\"data:image/png;base64,\r\niVBORw0KGgoAAAANSUhEUgAAAHQAAAHNCAYAAADPKF8uAAAE9klEQVR4nO3d0W3bMBRA0ZeiU2SKDlEgC3TZbtEpskb73cACDJu2patz/vJjxL4gRMsk9fbz7dffIePbq/8B1hI0RtAYQWMEjRE0RtAYQWMEjRE0RtAYQWMEjRE0RtAYQWMEjRE0RtAYQWMEjRE0RtAYQWMEjRE0RtAYQWMEjRE0RtAYQWMEjRE0RtAYQWMEjRE0RtAYQWMEjRE0RtAYQWMEjRE0RtAYQWMEjRE0RtAYQWMEjRE0RtAYQWMEjRE0RtAYQWMEjRE0RtAYQWMEjRE0RtAYQWMEjRE0RtAYQWMEjRE0RtAYQWMEjRE0RtAYQWMEjRE0RtAYQWMEjRE0RtAYQWMEjRE0RtAYQWMEjRE0RtAYQWMEjRE0RtAYQWMEjRE0RtAYQWMEjRE0RtAYQWMEjRE0RtAYQWMEjRE0RtAYQWMEjRE0RtAYQWMEjRE0RtAYQWMEjRE0RtAYQWMEjRE0RtAYQWMEjRE0RtAYQWMEjRE0RtAYQWMEjRE0RtAYQWMEjRE0RtAYQWMEjRE0RtAYQWMEjRE0RtAYQWMEjRE0RtAYQWMEjRE0RtAYQWMEjRE0RtAYQWMEjRE0RtAYQWMEjRE0RtAYQWMEjRE0RtAYQWMEjRE0RtAYQWMEjRE0RtAYQWMEjRE0RtAYQWMEjRE0RtAYQWMEjRE0RtAYQWMEjRE0RtAYQWMEjRE0RtAYQWMEjRE0RtAYQWMEjRE0RtAYQWMEjRE0RtAYQWMEjRE0RtAYQWMEjRE0RtAYQWMEjRE0RtAYQWMEjRE0RtAYQWMEjRE0RtAYQWMEjRE0RtAYQWMEjRE0RtAYQWMEjRE0RtAYQWMEjRE0RtAYQWMEjRE0RtAYQWMEjRE0RtAYQWMEjRE0RtAYQWMEjRE0RtAYQWMEjRE0RtAYQWMEjRE0RtAYQWMEjRE0RtAYQWMEjRE0RtAYQWMEjRE0RtAYQWMEjRE0RtAYQWMEjRE0RtCY7ytf7Pfnn//+/nj/sfLluYIRGiNojKAxS6+hrpnrfJ2PzFz3+RqhMYLGCBojaIygMYLGCBojaMxVNxZu/ZLL7W79fI3QGEFjBI0RNOaqSdEZJ0BHXX1hhMYIGiNojKAxS5eglKyaBD37LpsRGiNojKAxF6+hR/1SvUfP/uyM0BhBYwSNETTm4qTIJOj17G1hZgTNETRG0BhBYwSNETRG0BhBYwSNETRG0BhBY5zGuVM2/DIzguYIGuM0zp2yYoGZETRH0BhBY5wktlNuLDAzguYIGiNojJPEHsyhGdxF0BhBYxw8tdirV20YoTGCxggaI2jM6SZFj/6i/+qbMEZojKAxgsac7jTO0nu5xAiNETRG0BhBY5zGueGoE0MjNEbQGEFjBI2xt2XDUd+fERojaIygMbZCPJitENxF0BhBYwSNsYxzHjtJsbeFuwgaI2iMZZwxRmiMoDGCxggaYxnnhqNODI3QGEFjBI0RNMYyzg1HfX9GaIygMYLGLF3GedQv4yVGaIygMYLGCBrjgbA75YGwzIygOYLGCBojaIygMYLGCBpzur0tR+Gh6syMoDmCxggaY2/LTvm1hZkRNEfQGEFjBI0RNEbQGEFjBI0RNEbQGEFjBI1ZurfF0pV1LEFhZgTNETTG/tCdsmKBmRE0R9AYQWNO9+yzZ7t1cuPGAjMjaI6gMa6hG1b90OD5odxF0BhBYwSN+QcPuGu3SfCD2wAAAABJRU5ErkJggg==\" y=\"-561.187354\"/>\r\n   </g>\r\n   <g id=\"matplotlib.axis_17\">\r\n    <g id=\"xtick_25\">\r\n     <g id=\"line2d_65\">\r\n      <g>\r\n       <use style=\"stroke:#000000;stroke-width:0.8;\" x=\"721.918045\" xlink:href=\"#m33f425df88\" y=\"1022.187354\"/>\r\n      </g>\r\n     </g>\r\n     <g id=\"text_65\">\r\n      <!-- 0 -->\r\n      <g transform=\"translate(718.736795 1036.785792)scale(0.1 -0.1)\">\r\n       <use xlink:href=\"#DejaVuSans-48\"/>\r\n      </g>\r\n     </g>\r\n    </g>\r\n    <g id=\"xtick_26\">\r\n     <g id=\"line2d_66\">\r\n      <g>\r\n       <use style=\"stroke:#000000;stroke-width:0.8;\" x=\"767.985842\" xlink:href=\"#m33f425df88\" y=\"1022.187354\"/>\r\n      </g>\r\n     </g>\r\n     <g id=\"text_66\">\r\n      <!-- 10 -->\r\n      <g transform=\"translate(761.623342 1036.785792)scale(0.1 -0.1)\">\r\n       <use xlink:href=\"#DejaVuSans-49\"/>\r\n       <use x=\"63.623047\" xlink:href=\"#DejaVuSans-48\"/>\r\n      </g>\r\n     </g>\r\n    </g>\r\n    <g id=\"xtick_27\">\r\n     <g id=\"line2d_67\">\r\n      <g>\r\n       <use style=\"stroke:#000000;stroke-width:0.8;\" x=\"814.053638\" xlink:href=\"#m33f425df88\" y=\"1022.187354\"/>\r\n      </g>\r\n     </g>\r\n     <g id=\"text_67\">\r\n      <!-- 20 -->\r\n      <g transform=\"translate(807.691138 1036.785792)scale(0.1 -0.1)\">\r\n       <use xlink:href=\"#DejaVuSans-50\"/>\r\n       <use x=\"63.623047\" xlink:href=\"#DejaVuSans-48\"/>\r\n      </g>\r\n     </g>\r\n    </g>\r\n   </g>\r\n   <g id=\"matplotlib.axis_18\">\r\n    <g id=\"ytick_41\">\r\n     <g id=\"line2d_68\">\r\n      <g>\r\n       <use style=\"stroke:#000000;stroke-width:0.8;\" x=\"719.614655\" xlink:href=\"#m033900bfb7\" y=\"563.812778\"/>\r\n      </g>\r\n     </g>\r\n     <g id=\"text_68\">\r\n      <!-- 0 -->\r\n      <g transform=\"translate(706.252155 567.611997)scale(0.1 -0.1)\">\r\n       <use xlink:href=\"#DejaVuSans-48\"/>\r\n      </g>\r\n     </g>\r\n    </g>\r\n    <g id=\"ytick_42\">\r\n     <g id=\"line2d_69\">\r\n      <g>\r\n       <use style=\"stroke:#000000;stroke-width:0.8;\" x=\"719.614655\" xlink:href=\"#m033900bfb7\" y=\"655.948371\"/>\r\n      </g>\r\n     </g>\r\n     <g id=\"text_69\">\r\n      <!-- 20 -->\r\n      <g transform=\"translate(699.889655 659.74759)scale(0.1 -0.1)\">\r\n       <use xlink:href=\"#DejaVuSans-50\"/>\r\n       <use x=\"63.623047\" xlink:href=\"#DejaVuSans-48\"/>\r\n      </g>\r\n     </g>\r\n    </g>\r\n    <g id=\"ytick_43\">\r\n     <g id=\"line2d_70\">\r\n      <g>\r\n       <use style=\"stroke:#000000;stroke-width:0.8;\" x=\"719.614655\" xlink:href=\"#m033900bfb7\" y=\"748.083965\"/>\r\n      </g>\r\n     </g>\r\n     <g id=\"text_70\">\r\n      <!-- 40 -->\r\n      <g transform=\"translate(699.889655 751.883183)scale(0.1 -0.1)\">\r\n       <use xlink:href=\"#DejaVuSans-52\"/>\r\n       <use x=\"63.623047\" xlink:href=\"#DejaVuSans-48\"/>\r\n      </g>\r\n     </g>\r\n    </g>\r\n    <g id=\"ytick_44\">\r\n     <g id=\"line2d_71\">\r\n      <g>\r\n       <use style=\"stroke:#000000;stroke-width:0.8;\" x=\"719.614655\" xlink:href=\"#m033900bfb7\" y=\"840.219558\"/>\r\n      </g>\r\n     </g>\r\n     <g id=\"text_71\">\r\n      <!-- 60 -->\r\n      <g transform=\"translate(699.889655 844.018776)scale(0.1 -0.1)\">\r\n       <use xlink:href=\"#DejaVuSans-54\"/>\r\n       <use x=\"63.623047\" xlink:href=\"#DejaVuSans-48\"/>\r\n      </g>\r\n     </g>\r\n    </g>\r\n    <g id=\"ytick_45\">\r\n     <g id=\"line2d_72\">\r\n      <g>\r\n       <use style=\"stroke:#000000;stroke-width:0.8;\" x=\"719.614655\" xlink:href=\"#m033900bfb7\" y=\"932.355151\"/>\r\n      </g>\r\n     </g>\r\n     <g id=\"text_72\">\r\n      <!-- 80 -->\r\n      <g transform=\"translate(699.889655 936.15437)scale(0.1 -0.1)\">\r\n       <use xlink:href=\"#DejaVuSans-56\"/>\r\n       <use x=\"63.623047\" xlink:href=\"#DejaVuSans-48\"/>\r\n      </g>\r\n     </g>\r\n    </g>\r\n   </g>\r\n   <g id=\"patch_43\">\r\n    <path d=\"M 719.614655 1022.187354 \r\nL 719.614655 561.509388 \r\n\" style=\"fill:none;stroke:#000000;stroke-linecap:square;stroke-linejoin:miter;stroke-width:0.8;\"/>\r\n   </g>\r\n   <g id=\"patch_44\">\r\n    <path d=\"M 834.784147 1022.187354 \r\nL 834.784147 561.509388 \r\n\" style=\"fill:none;stroke:#000000;stroke-linecap:square;stroke-linejoin:miter;stroke-width:0.8;\"/>\r\n   </g>\r\n   <g id=\"patch_45\">\r\n    <path d=\"M 719.614655 1022.187354 \r\nL 834.784147 1022.187354 \r\n\" style=\"fill:none;stroke:#000000;stroke-linecap:square;stroke-linejoin:miter;stroke-width:0.8;\"/>\r\n   </g>\r\n   <g id=\"patch_46\">\r\n    <path d=\"M 719.614655 561.509388 \r\nL 834.784147 561.509388 \r\n\" style=\"fill:none;stroke:#000000;stroke-linecap:square;stroke-linejoin:miter;stroke-width:0.8;\"/>\r\n   </g>\r\n  </g>\r\n  <g id=\"axes_10\">\r\n   <g id=\"patch_47\">\r\n    <path d=\"M 950.511207 1022.187354 \r\nL 1065.680698 1022.187354 \r\nL 1065.680698 561.509388 \r\nL 950.511207 561.509388 \r\nz\r\n\" style=\"fill:#ffffff;\"/>\r\n   </g>\r\n   <g clip-path=\"url(#p114fa54bb0)\">\r\n    <image height=\"461\" id=\"image8f4821a43d\" transform=\"scale(1 -1)translate(0 -461)\" width=\"116\" x=\"950.511207\" xlink:href=\"data:image/png;base64,\r\niVBORw0KGgoAAAANSUhEUgAAAHQAAAHNCAYAAADPKF8uAAAFeklEQVR4nO3dy40TQRRAUYOIgigIAokESJYsiII0YI3lkgzu37s+Zze77rl66prqz3z4+uH77xsZH88+ALYlaIygMYLGCBojaIygMYLGCBojaIygMYLGCBojaIygMYLGCBojaIygMYLGCBojaIygMYLGCBojaIygMYLGCBojaIygMYLGCBojaIygMYLGCBojaIygMYLGCBojaIygMYLGCBojaIygMYLGCBojaIygMYLGCBojaIygMYLGCBojaIygMYLGCBojaIygMYLGCBojaIygMYLGCBojaIygMYLGCBojaIygMYLGCBojaIygMYLGCBojaIygMYLGCBojaIygMYLGCBojaIygMYLGCBojaIygMYLGCBojaIygMYLGCBojaIygMYLGCBojaIygMYLGCBojaIygMYLGCBojaIygMYLGCBojaIygMYLGCBojaIygMYLGCBojaIygMYLGCBojaIygMYLGCBojaIygMYLGCBojaIygMYLGCBojaIygMYLGCBojaIygMYLGCBojaIygMYLGCBojaIygMYLGCBojaIygMYLGCBojaIygMYLGCBojaIygMYLGCBojaIygMYLGCBojaIygMYLGCBojaIygMYLGCBojaIygMYLGCBojaIygMYLGCBojaIygMYLGCBrz6ewDuKofv37+9fO3z19OOY5/ZUJjBI0RNOapa+j99eR2m3NN+V9Tz8+ExggaI2iMoDFPLYqmLhBeYWOBSxA0RtCYh9fQqdePLU09ZxMaI2iMoDGCxjxcFO25ILDg2pcJjRE0RtAYQWMOf4xzyiJo6uLNhMYIGiNojFchFra6Zh79CKwJjRE0RtAYQWO827Kzo39PJjRG0BhBYwSN8W7LgrstXIKgMYLG7Hq3ZfKGxJTjvGdCYwSNETRG0JhNF0VT/xgvMaExgsYIGrPpNbR0zZy6HjChMYLGCBojaIygMYLGCBojaIygMT6vujD1nE1ojKAxgsb4GmeMCY0RNEbQGEFjfI1zYerizYTGCBojaIwPTy1MPT8TGiNojKAxgsb48NSCjQUuQdAYQWMEjbFTtDD1/ExojKAxgsbYWFiwscAlCBojaIygMd4PXZh6ziY0RtAYQWMOfz/03jtu/O/JhMYIGiNojKAxh78feu+qC6CpmysmNEbQGEFjBI3xGOfC1PMzoTGCxggac/hjnFP/YJ/ChMYIGiNojKAxvsa5s6M3ZUxojKAxgsbYnN/Z0b8nExojaIygMYLG+GjGzmws8BJBYwSNETTm9Hdbjnb0IsVOES8RNEbQmLf78FTpXB4xoTGCxggaI2jM6V8Su6qpC0MTGiNojKAxgsa83U7Rs6aeswmNETRG0JinNha82zKHCY0RNEbQGEFjvNuyMHVzxYTGCBojaIzN+YWp52xCYwSNETRG0BiPcS5MXRia0BhBYwSNETRG0BhBYwSNETRG0BhBYwSNETRG0JjTv8Z51fdmrnAM/8OExggaI2jM4dfQqU8CTGFCYwSNETRG0Bj/VH1h6uLNhMYIGiNojKAxTy2KrnpHZE9Tz8+ExggaI2iMD0/tzD9V5yWCxggaI2jM6Y9xHs0/VWcUQWMEjXm7r3GWzuURExojaIygMYLG+BrnwtSFoQmNETRG0BhBY97ubsuztloEeQSFlwgaI2jM291tOZonFniJoDGCxgga427LwtSFoQmNETRG0BhBYwSNETRG0BhBY3Z9YmHyB6umHOc9ExojaIygMYLG7LoomrqwuN3cbeEiBI0RNEbQGEFjBI0RNEbQGEFjBI0RNEbQGEFjBI0RNEbQGEFjNn1iYepd/kemHrsJjRE0RtAYQWM2XRRNXUg8MnWBZ0JjBI0RNEbQGEFjBI0RNEbQmD/pTrY1IwDcVQAAAABJRU5ErkJggg==\" y=\"-561.187354\"/>\r\n   </g>\r\n   <g id=\"matplotlib.axis_19\">\r\n    <g id=\"xtick_28\">\r\n     <g id=\"line2d_73\">\r\n      <g>\r\n       <use style=\"stroke:#000000;stroke-width:0.8;\" x=\"952.814597\" xlink:href=\"#m33f425df88\" y=\"1022.187354\"/>\r\n      </g>\r\n     </g>\r\n     <g id=\"text_73\">\r\n      <!-- 0 -->\r\n      <g transform=\"translate(949.633347 1036.785792)scale(0.1 -0.1)\">\r\n       <use xlink:href=\"#DejaVuSans-48\"/>\r\n      </g>\r\n     </g>\r\n    </g>\r\n    <g id=\"xtick_29\">\r\n     <g id=\"line2d_74\">\r\n      <g>\r\n       <use style=\"stroke:#000000;stroke-width:0.8;\" x=\"998.882393\" xlink:href=\"#m33f425df88\" y=\"1022.187354\"/>\r\n      </g>\r\n     </g>\r\n     <g id=\"text_74\">\r\n      <!-- 10 -->\r\n      <g transform=\"translate(992.519893 1036.785792)scale(0.1 -0.1)\">\r\n       <use xlink:href=\"#DejaVuSans-49\"/>\r\n       <use x=\"63.623047\" xlink:href=\"#DejaVuSans-48\"/>\r\n      </g>\r\n     </g>\r\n    </g>\r\n    <g id=\"xtick_30\">\r\n     <g id=\"line2d_75\">\r\n      <g>\r\n       <use style=\"stroke:#000000;stroke-width:0.8;\" x=\"1044.95019\" xlink:href=\"#m33f425df88\" y=\"1022.187354\"/>\r\n      </g>\r\n     </g>\r\n     <g id=\"text_75\">\r\n      <!-- 20 -->\r\n      <g transform=\"translate(1038.58769 1036.785792)scale(0.1 -0.1)\">\r\n       <use xlink:href=\"#DejaVuSans-50\"/>\r\n       <use x=\"63.623047\" xlink:href=\"#DejaVuSans-48\"/>\r\n      </g>\r\n     </g>\r\n    </g>\r\n   </g>\r\n   <g id=\"matplotlib.axis_20\">\r\n    <g id=\"ytick_46\">\r\n     <g id=\"line2d_76\">\r\n      <g>\r\n       <use style=\"stroke:#000000;stroke-width:0.8;\" x=\"950.511207\" xlink:href=\"#m033900bfb7\" y=\"563.812778\"/>\r\n      </g>\r\n     </g>\r\n     <g id=\"text_76\">\r\n      <!-- 0 -->\r\n      <g transform=\"translate(937.148707 567.611997)scale(0.1 -0.1)\">\r\n       <use xlink:href=\"#DejaVuSans-48\"/>\r\n      </g>\r\n     </g>\r\n    </g>\r\n    <g id=\"ytick_47\">\r\n     <g id=\"line2d_77\">\r\n      <g>\r\n       <use style=\"stroke:#000000;stroke-width:0.8;\" x=\"950.511207\" xlink:href=\"#m033900bfb7\" y=\"655.948371\"/>\r\n      </g>\r\n     </g>\r\n     <g id=\"text_77\">\r\n      <!-- 20 -->\r\n      <g transform=\"translate(930.786207 659.74759)scale(0.1 -0.1)\">\r\n       <use xlink:href=\"#DejaVuSans-50\"/>\r\n       <use x=\"63.623047\" xlink:href=\"#DejaVuSans-48\"/>\r\n      </g>\r\n     </g>\r\n    </g>\r\n    <g id=\"ytick_48\">\r\n     <g id=\"line2d_78\">\r\n      <g>\r\n       <use style=\"stroke:#000000;stroke-width:0.8;\" x=\"950.511207\" xlink:href=\"#m033900bfb7\" y=\"748.083965\"/>\r\n      </g>\r\n     </g>\r\n     <g id=\"text_78\">\r\n      <!-- 40 -->\r\n      <g transform=\"translate(930.786207 751.883183)scale(0.1 -0.1)\">\r\n       <use xlink:href=\"#DejaVuSans-52\"/>\r\n       <use x=\"63.623047\" xlink:href=\"#DejaVuSans-48\"/>\r\n      </g>\r\n     </g>\r\n    </g>\r\n    <g id=\"ytick_49\">\r\n     <g id=\"line2d_79\">\r\n      <g>\r\n       <use style=\"stroke:#000000;stroke-width:0.8;\" x=\"950.511207\" xlink:href=\"#m033900bfb7\" y=\"840.219558\"/>\r\n      </g>\r\n     </g>\r\n     <g id=\"text_79\">\r\n      <!-- 60 -->\r\n      <g transform=\"translate(930.786207 844.018776)scale(0.1 -0.1)\">\r\n       <use xlink:href=\"#DejaVuSans-54\"/>\r\n       <use x=\"63.623047\" xlink:href=\"#DejaVuSans-48\"/>\r\n      </g>\r\n     </g>\r\n    </g>\r\n    <g id=\"ytick_50\">\r\n     <g id=\"line2d_80\">\r\n      <g>\r\n       <use style=\"stroke:#000000;stroke-width:0.8;\" x=\"950.511207\" xlink:href=\"#m033900bfb7\" y=\"932.355151\"/>\r\n      </g>\r\n     </g>\r\n     <g id=\"text_80\">\r\n      <!-- 80 -->\r\n      <g transform=\"translate(930.786207 936.15437)scale(0.1 -0.1)\">\r\n       <use xlink:href=\"#DejaVuSans-56\"/>\r\n       <use x=\"63.623047\" xlink:href=\"#DejaVuSans-48\"/>\r\n      </g>\r\n     </g>\r\n    </g>\r\n   </g>\r\n   <g id=\"patch_48\">\r\n    <path d=\"M 950.511207 1022.187354 \r\nL 950.511207 561.509388 \r\n\" style=\"fill:none;stroke:#000000;stroke-linecap:square;stroke-linejoin:miter;stroke-width:0.8;\"/>\r\n   </g>\r\n   <g id=\"patch_49\">\r\n    <path d=\"M 1065.680698 1022.187354 \r\nL 1065.680698 561.509388 \r\n\" style=\"fill:none;stroke:#000000;stroke-linecap:square;stroke-linejoin:miter;stroke-width:0.8;\"/>\r\n   </g>\r\n   <g id=\"patch_50\">\r\n    <path d=\"M 950.511207 1022.187354 \r\nL 1065.680698 1022.187354 \r\n\" style=\"fill:none;stroke:#000000;stroke-linecap:square;stroke-linejoin:miter;stroke-width:0.8;\"/>\r\n   </g>\r\n   <g id=\"patch_51\">\r\n    <path d=\"M 950.511207 561.509388 \r\nL 1065.680698 561.509388 \r\n\" style=\"fill:none;stroke:#000000;stroke-linecap:square;stroke-linejoin:miter;stroke-width:0.8;\"/>\r\n   </g>\r\n  </g>\r\n </g>\r\n <defs>\r\n  <clipPath id=\"p0a0aa13352\">\r\n   <rect height=\"460.677966\" width=\"115.169492\" x=\"26.925\" y=\"8.695829\"/>\r\n  </clipPath>\r\n  <clipPath id=\"p73ed1a957e\">\r\n   <rect height=\"460.677966\" width=\"115.169492\" x=\"257.821552\" y=\"8.695829\"/>\r\n  </clipPath>\r\n  <clipPath id=\"pbd372e7f52\">\r\n   <rect height=\"460.677966\" width=\"115.169492\" x=\"488.718103\" y=\"8.695829\"/>\r\n  </clipPath>\r\n  <clipPath id=\"pd2d296c7a9\">\r\n   <rect height=\"460.677966\" width=\"115.169492\" x=\"719.614655\" y=\"8.695829\"/>\r\n  </clipPath>\r\n  <clipPath id=\"p9e24e6f31f\">\r\n   <rect height=\"460.677966\" width=\"115.169492\" x=\"950.511207\" y=\"8.695829\"/>\r\n  </clipPath>\r\n  <clipPath id=\"p3b78206e80\">\r\n   <rect height=\"460.677966\" width=\"115.169492\" x=\"26.925\" y=\"561.509388\"/>\r\n  </clipPath>\r\n  <clipPath id=\"p66caed99b4\">\r\n   <rect height=\"460.677966\" width=\"115.169492\" x=\"257.821552\" y=\"561.509388\"/>\r\n  </clipPath>\r\n  <clipPath id=\"p8479d3599a\">\r\n   <rect height=\"460.677966\" width=\"115.169492\" x=\"488.718103\" y=\"561.509388\"/>\r\n  </clipPath>\r\n  <clipPath id=\"p246f3d0764\">\r\n   <rect height=\"460.677966\" width=\"115.169492\" x=\"719.614655\" y=\"561.509388\"/>\r\n  </clipPath>\r\n  <clipPath id=\"p114fa54bb0\">\r\n   <rect height=\"460.677966\" width=\"115.169492\" x=\"950.511207\" y=\"561.509388\"/>\r\n  </clipPath>\r\n </defs>\r\n</svg>\r\n",
            "image/png": "[encoded data removed]"
          },
          "metadata": {
            "needs_background": "light"
          }
        }
      ],
      "metadata": {
        "id": "9d7QiGAxezu2"
      }
    },
    {
      "cell_type": "code",
      "execution_count": 6,
      "source": [
        "X,disposed_indices=encoding(df)\r\n",
        "removed_mols = df.iloc[disposed_indices]\r\n",
        "Y=df[\"HOMO-LUMO Gap\"].drop(labels=disposed_indices, axis=0)\r\n"
      ],
      "outputs": [],
      "metadata": {
        "colab": {
          "base_uri": "https://localhost:8080/",
          "height": 353
        },
        "id": "Q4VxXzCfh8Cq",
        "outputId": "e437146d-6366-4797-b441-0a4e74b85a88"
      }
    },
    {
      "cell_type": "code",
      "execution_count": 7,
      "source": [
        "from sklearn.model_selection import train_test_split\r\n",
        "X_train, X_test, y_train, y_test = train_test_split(X, Y, test_size=0.10, random_state=0)"
      ],
      "outputs": [],
      "metadata": {
        "colab": {
          "base_uri": "https://localhost:8080/",
          "height": 223
        },
        "id": "xsqYq8WjgnLv",
        "outputId": "7e8b42f1-4373-46e6-b298-b558527a46fa"
      }
    },
    {
      "cell_type": "code",
      "execution_count": 11,
      "source": [
        "X_train = np.array(X_train)\r\n",
        "X_test = np.array(X_test)\r\n",
        "y_train = np.array(y_train)\r\n",
        "y_test = np.array(y_test)"
      ],
      "outputs": [],
      "metadata": {}
    },
    {
      "cell_type": "code",
      "execution_count": 18,
      "source": [
        "X_test = X_test.reshape(len(X_test), 100, 25, 1)\r\n",
        "X_train = X_train.reshape(len(X_train), 100, 25, 1)"
      ],
      "outputs": [],
      "metadata": {}
    },
    {
      "cell_type": "code",
      "execution_count": 25,
      "source": [
        "y_train = np.array(y_train)\r\n",
        "y_test = np.array(y_test)"
      ],
      "outputs": [],
      "metadata": {}
    },
    {
      "cell_type": "code",
      "execution_count": 28,
      "source": [
        "y_train = y_train.reshape(len(y_train), 1)"
      ],
      "outputs": [],
      "metadata": {}
    },
    {
      "cell_type": "code",
      "execution_count": 33,
      "source": [
        "y_test = y_test.reshape(len(y_test), 1)"
      ],
      "outputs": [],
      "metadata": {}
    },
    {
      "cell_type": "code",
      "execution_count": 34,
      "source": [
        "y_test"
      ],
      "outputs": [
        {
          "output_type": "execute_result",
          "data": {
            "text/plain": [
              "array([[4.0842],\n",
              "       [2.1098],\n",
              "       [2.7723],\n",
              "       [2.1403],\n",
              "       [3.3429],\n",
              "       [4.872 ],\n",
              "       [3.2035],\n",
              "       [3.5907],\n",
              "       [3.0306],\n",
              "       [2.9264],\n",
              "       [2.966 ],\n",
              "       [2.9542],\n",
              "       [3.4079],\n",
              "       [2.2414],\n",
              "       [4.0997],\n",
              "       [3.5669],\n",
              "       [3.585 ],\n",
              "       [3.8716],\n",
              "       [2.6378],\n",
              "       [1.84  ],\n",
              "       [6.0589],\n",
              "       [2.7684],\n",
              "       [3.1808],\n",
              "       [4.0626],\n",
              "       [3.3567],\n",
              "       [5.6876],\n",
              "       [5.901 ],\n",
              "       [3.301 ],\n",
              "       [2.774 ],\n",
              "       [2.9829],\n",
              "       [4.4649],\n",
              "       [2.6579],\n",
              "       [3.2064],\n",
              "       [3.4397],\n",
              "       [3.9475],\n",
              "       [3.2033],\n",
              "       [2.5651],\n",
              "       [3.0026],\n",
              "       [1.8548],\n",
              "       [2.5145],\n",
              "       [2.9991],\n",
              "       [0.    ],\n",
              "       [2.3879],\n",
              "       [3.4884],\n",
              "       [2.7404],\n",
              "       [3.6453],\n",
              "       [1.4761],\n",
              "       [4.3466],\n",
              "       [3.7151],\n",
              "       [1.9416],\n",
              "       [2.5818],\n",
              "       [1.9333],\n",
              "       [2.9334],\n",
              "       [2.1343],\n",
              "       [2.8192],\n",
              "       [2.2883],\n",
              "       [3.6426],\n",
              "       [4.0176],\n",
              "       [2.9015],\n",
              "       [3.3915],\n",
              "       [3.0981],\n",
              "       [3.7607],\n",
              "       [4.0103],\n",
              "       [2.1375],\n",
              "       [2.3477],\n",
              "       [2.0253],\n",
              "       [3.5292],\n",
              "       [2.0092],\n",
              "       [3.8071],\n",
              "       [3.9037],\n",
              "       [2.3128],\n",
              "       [3.5298],\n",
              "       [2.5244],\n",
              "       [3.2358],\n",
              "       [2.058 ],\n",
              "       [4.2695],\n",
              "       [2.4597],\n",
              "       [4.7968],\n",
              "       [2.2567],\n",
              "       [3.5206],\n",
              "       [2.7031],\n",
              "       [5.1372],\n",
              "       [3.4862],\n",
              "       [4.4162],\n",
              "       [4.8356],\n",
              "       [5.1022],\n",
              "       [2.7527],\n",
              "       [3.2495],\n",
              "       [2.5151],\n",
              "       [3.0702],\n",
              "       [1.7722],\n",
              "       [2.257 ],\n",
              "       [2.2164],\n",
              "       [3.1259],\n",
              "       [2.3019],\n",
              "       [3.6359],\n",
              "       [4.2431],\n",
              "       [2.8042],\n",
              "       [1.8288],\n",
              "       [3.7809],\n",
              "       [2.7464],\n",
              "       [2.5434],\n",
              "       [1.9974],\n",
              "       [1.8912],\n",
              "       [2.2293],\n",
              "       [3.1384],\n",
              "       [2.3037],\n",
              "       [4.0382],\n",
              "       [2.0763],\n",
              "       [2.6927],\n",
              "       [2.4708],\n",
              "       [1.7143],\n",
              "       [4.0568],\n",
              "       [2.6184],\n",
              "       [3.4224],\n",
              "       [4.245 ],\n",
              "       [2.1195],\n",
              "       [2.4608],\n",
              "       [3.0768],\n",
              "       [3.2821],\n",
              "       [0.    ],\n",
              "       [2.7335],\n",
              "       [5.2349],\n",
              "       [3.1379],\n",
              "       [2.6208],\n",
              "       [4.0956],\n",
              "       [1.6218],\n",
              "       [3.4772],\n",
              "       [2.7432],\n",
              "       [2.2653],\n",
              "       [2.8595],\n",
              "       [4.5069],\n",
              "       [2.6648],\n",
              "       [2.6606],\n",
              "       [4.1032],\n",
              "       [3.7269],\n",
              "       [1.3002]], dtype=float32)"
            ]
          },
          "metadata": {},
          "execution_count": 34
        }
      ],
      "metadata": {}
    },
    {
      "cell_type": "code",
      "execution_count": 52,
      "source": [
        "model=Sequential()\r\n",
        "model.add(Conv2D(64,kernel_size=3, input_shape=(100,25,1), activation=\"relu\"))\r\n",
        "model.add(MaxPool2D(pool_size=(3,3)))\r\n",
        "model.add(Conv2D(32,kernel_size=3, activation=\"relu\"))\r\n",
        "model.add(MaxPool2D(pool_size=(3,3)))\r\n",
        "model.add(Flatten())\r\n",
        "model.add(Dense(32,activation=\"relu\",kernel_regularizer=\"l2\"))\r\n",
        "model.add(Dropout(0.1))\r\n",
        "model.add(Dense(10))\r\n",
        "model.add(Dense(1, activation=\"relu\"))\r\n",
        "opt=keras.optimizers.Adam(learning_rate=0.03)\r\n",
        "model.compile(optimizer=opt,loss=\"mean_absolute_error\",)\r\n",
        "Model_rms_1=model.fit(X_train,y_train,validation_data=(X_test,y_test),epochs=10)"
      ],
      "outputs": [
        {
          "output_type": "stream",
          "name": "stdout",
          "text": [
            "Epoch 1/10\n",
            "39/39 [==============================] - 1s 37ms/step - loss: 1.5714 - val_loss: 0.9437\n",
            "Epoch 2/10\n",
            "39/39 [==============================] - 1s 33ms/step - loss: 0.8341 - val_loss: 0.8832\n",
            "Epoch 3/10\n",
            "39/39 [==============================] - 1s 34ms/step - loss: 0.7779 - val_loss: 0.7746\n",
            "Epoch 4/10\n",
            "39/39 [==============================] - 1s 34ms/step - loss: 0.7587 - val_loss: 0.7750\n",
            "Epoch 5/10\n",
            "39/39 [==============================] - 1s 33ms/step - loss: 0.7570 - val_loss: 0.7788\n",
            "Epoch 6/10\n",
            "39/39 [==============================] - 1s 32ms/step - loss: 0.7523 - val_loss: 0.7875\n",
            "Epoch 7/10\n",
            "39/39 [==============================] - 1s 32ms/step - loss: 0.7525 - val_loss: 0.7799\n",
            "Epoch 8/10\n",
            "39/39 [==============================] - 1s 33ms/step - loss: 0.7415 - val_loss: 0.8803\n",
            "Epoch 9/10\n",
            "39/39 [==============================] - 1s 34ms/step - loss: 0.7505 - val_loss: 0.7691\n",
            "Epoch 10/10\n",
            "39/39 [==============================] - 1s 32ms/step - loss: 0.7417 - val_loss: 0.7736\n"
          ]
        }
      ],
      "metadata": {}
    },
    {
      "cell_type": "code",
      "execution_count": 53,
      "source": [
        "model.predict(X_test[5:10])"
      ],
      "outputs": [
        {
          "output_type": "execute_result",
          "data": {
            "text/plain": [
              "array([[2.8811393],\n",
              "       [2.8811393],\n",
              "       [2.8811393],\n",
              "       [2.8811393],\n",
              "       [2.8811393]], dtype=float32)"
            ]
          },
          "metadata": {},
          "execution_count": 53
        }
      ],
      "metadata": {}
    },
    {
      "cell_type": "code",
      "execution_count": 54,
      "source": [
        "y_test[5:10]"
      ],
      "outputs": [
        {
          "output_type": "execute_result",
          "data": {
            "text/plain": [
              "array([[4.872 ],\n",
              "       [3.2035],\n",
              "       [3.5907],\n",
              "       [3.0306],\n",
              "       [2.9264]], dtype=float32)"
            ]
          },
          "metadata": {},
          "execution_count": 54
        }
      ],
      "metadata": {}
    },
    {
      "cell_type": "code",
      "execution_count": null,
      "source": [],
      "outputs": [],
      "metadata": {}
    }
  ]
}